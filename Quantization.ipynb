{
 "cells": [
  {
   "cell_type": "code",
   "execution_count": 13,
   "id": "88c35f07",
   "metadata": {},
   "outputs": [],
   "source": [
    "from keras.models import load_model\n",
    "import pandas as pd\n",
    "import tensorflow as tf\n",
    "import os\n"
   ]
  },
  {
   "cell_type": "code",
   "execution_count": 14,
   "id": "597760bf",
   "metadata": {},
   "outputs": [],
   "source": [
    "stock_symbols = [\n",
    "  \"4310.SR\",\n",
    "  \"2222.SR\",\n",
    "  \"2380.SR\",\n",
    "  \"2381.SR\",\n",
    "#   \"2382.SR\",\n",
    "  \"4030.SR\",\n",
    "  \"4200.SR\",\n",
    "  \"1201.SR\",\n",
    "  \"1202.SR\",\n",
    "  \"1210.SR\",\n",
    "  \"1211.SR\",\n",
    "  \"1301.SR\",\n",
    "  \"1304.SR\",\n",
    "  \"1320.SR\",\n",
    "  \"1321.SR\",\n",
    "  \"1322.SR\",\n",
    "  \"2001.SR\",\n",
    "  \"2010.SR\",\n",
    "  \"2020.SR\",\n",
    "  \"2060.SR\",\n",
    "  \"2090.SR\",\n",
    "  \"2150.SR\",\n",
    "  \"2170.SR\",\n",
    "  \"2180.SR\",\n",
    "  \"2200.SR\",\n",
    "  \"2210.SR\",\n",
    "  \"2220.SR\",\n",
    "  \"2223.SR\",\n",
    "  \"2240.SR\",\n",
    "  \"2250.SR\",\n",
    "  \"2290.SR\",\n",
    "  \"2300.SR\",\n",
    "  \"2310.SR\",\n",
    "  \"2330.SR\",\n",
    "  \"2350.SR\",\n",
    "  \"2360.SR\",\n",
    "  \"3001.SR\",\n",
    "  \"3002.SR\",\n",
    "  \"3003.SR\",\n",
    "  \"3004.SR\",\n",
    "  \"3005.SR\",\n",
    "  \"3007.SR\",\n",
    "  \"3008.SR\",\n",
    "  \"3010.SR\",\n",
    "  \"3020.SR\",\n",
    "  \"3030.SR\",\n",
    "  \"3040.SR\",\n",
    "  \"3050.SR\",\n",
    "  \"3060.SR\",\n",
    "  \"3080.SR\",\n",
    "  \"3090.SR\",\n",
    "  \"3091.SR\",\n",
    "#   \"3092.SR\",\n",
    "  \"1212.SR\",\n",
    "  \"1214.SR\",\n",
    "  \"1302.SR\",\n",
    "  \"1303.SR\",\n",
    "  \"2040.SR\",\n",
    "  \"2110.SR\",\n",
    "  \"2160.SR\",\n",
    "  \"2320.SR\",\n",
    "  \"2370.SR\",\n",
    "  \"4110.SR\",\n",
    "  \"4140.SR\",\n",
    "  \"4141.SR\",\n",
    "  \"4142.SR\",\n",
    "  \"1831.SR\",\n",
    "  \"1832.SR\",\n",
    "  \"1833.SR\",\n",
    "  \"4270.SR\",\n",
    "  \"6004.SR\",\n",
    "  \"2190.SR\",\n",
    "  \"4031.SR\",\n",
    "  \"4040.SR\",\n",
    "  \"4260.SR\",\n",
    "  \"4261.SR\",\n",
    "#   \"4262.SR\",\n",
    "#   \"4263.SR\",\n",
    "  \"1213.SR\",\n",
    "  \"2130.SR\",\n",
    "  \"2340.SR\",\n",
    "  \"4011.SR\",\n",
    "  \"4012.SR\",\n",
    "  \"4180.SR\",\n",
    "  \"1810.SR\",\n",
    "  \"1820.SR\",\n",
    "  \"1830.SR\",\n",
    "  \"4170.SR\",\n",
    "  \"4290.SR\",\n",
    "  \"4291.SR\",\n",
    "  \"4292.SR\",\n",
    "  \"6002.SR\",\n",
    "  \"6012.SR\",\n",
    "  \"6013.SR\",\n",
    "  \"6014.SR\",\n",
    "  \"6015.SR\",\n",
    "  \"4070.SR\",\n",
    "  \"4071.SR\",\n",
    "#   \"4072.SR\",\n",
    "  \"4210.SR\",\n",
    "  \"4003.SR\",\n",
    "  \"4008.SR\",\n",
    "  \"4050.SR\",\n",
    "  \"4051.SR\",\n",
    "  \"4190.SR\",\n",
    "  \"4191.SR\",\n",
    "  \"4192.SR\",\n",
    "  \"4240.SR\",\n",
    "  \"4001.SR\",\n",
    "  \"4006.SR\",\n",
    "  \"4061.SR\",\n",
    "  \"4160.SR\",\n",
    "  \"4161.SR\",\n",
    "  \"4162.SR\",\n",
    "  \"4163.SR\",\n",
    "  \"4164.SR\",\n",
    "  \"2050.SR\",\n",
    "  \"2100.SR\",\n",
    "  \"2270.SR\",\n",
    "  \"2280.SR\",\n",
    "  \"2281.SR\",\n",
    "  \"2282.SR\",\n",
    "  \"2283.SR\",\n",
    "  \"4080.SR\",\n",
    "  \"6001.SR\",\n",
    "  \"6010.SR\",\n",
    "  \"6020.SR\",\n",
    "  \"6040.SR\",\n",
    "  \"6050.SR\",\n",
    "  \"6060.SR\",\n",
    "  \"6070.SR\",\n",
    "  \"6090.SR\",\n",
    "  \"2140.SR\",\n",
    "  \"2230.SR\",\n",
    "  \"4002.SR\",\n",
    "  \"4004.SR\",\n",
    "  \"4005.SR\",\n",
    "  \"4007.SR\",\n",
    "  \"4009.SR\",\n",
    "  \"4013.SR\",\n",
    "  \"4014.SR\",\n",
    "  \"2070.SR\",\n",
    "  \"4015.SR\",\n",
    "  \"1010.SR\",\n",
    "  \"1020.SR\",\n",
    "  \"1030.SR\",\n",
    "  \"1050.SR\",\n",
    "  \"1060.SR\",\n",
    "  \"1080.SR\",\n",
    "  \"1120.SR\",\n",
    "  \"1140.SR\",\n",
    "  \"1150.SR\",\n",
    "  \"1180.SR\",\n",
    "  \"1111.SR\",\n",
    "  \"1182.SR\",\n",
    "  \"1183.SR\",\n",
    "  \"2120.SR\",\n",
    "  \"4081.SR\",\n",
    "  \"4082.SR\",\n",
    "  \"4130.SR\",\n",
    "  \"4280.SR\",\n",
    "  \"8010.SR\",\n",
    "  \"8012.SR\",\n",
    "  \"8020.SR\",\n",
    "  \"8030.SR\",\n",
    "  \"8040.SR\",\n",
    "  \"8050.SR\",\n",
    "  \"8060.SR\",\n",
    "  \"8070.SR\",\n",
    "  \"8100.SR\",\n",
    "  \"8120.SR\",\n",
    "  \"8150.SR\",\n",
    "  \"8160.SR\",\n",
    "  \"8170.SR\",\n",
    "  \"8180.SR\",\n",
    "  \"8190.SR\",\n",
    "  \"8200.SR\",\n",
    "  \"8210.SR\",\n",
    "  \"8230.SR\",\n",
    "  \"8240.SR\",\n",
    "  \"8250.SR\",\n",
    "  \"8260.SR\",\n",
    "  \"8270.SR\",\n",
    "  \"8280.SR\",\n",
    "  \"8300.SR\",\n",
    "  \"8310.SR\",\n",
    "  \"8311.SR\",\n",
    "  \"7200.SR\",\n",
    "  \"7201.SR\",\n",
    "  \"7202.SR\",\n",
    "  \"7203.SR\",\n",
    "  \"7204.SR\",\n",
    "  \"7010.SR\",\n",
    "  \"7020.SR\",\n",
    "  \"7030.SR\",\n",
    "  \"7040.SR\",\n",
    "  \"2080.SR\",\n",
    "  \"2081.SR\",\n",
    "  \"2082.SR\",\n",
    "  \"2083.SR\",\n",
    "  \"5110.SR\",\n",
    "  \"4330.SR\",\n",
    "  \"4331.SR\",\n",
    "  \"4332.SR\",\n",
    "  \"4333.SR\",\n",
    "  \"4334.SR\",\n",
    "  \"4335.SR\",\n",
    "  \"4336.SR\",\n",
    "  \"4337.SR\",\n",
    "  \"4338.SR\",\n",
    "  \"4340.SR\",\n",
    "  \"4342.SR\",\n",
    "  \"4344.SR\",\n",
    "  \"4345.SR\",\n",
    "  \"4346.SR\",\n",
    "  \"4347.SR\",\n",
    "  \"4348.SR\",\n",
    "  \"4349.SR\",\n",
    "  \"4020.SR\",\n",
    "  \"4090.SR\",\n",
    "  \"4100.SR\",\n",
    "  \"4150.SR\",\n",
    "  \"4220.SR\",\n",
    "  \"4230.SR\",\n",
    "  \"4250.SR\",\n",
    "  \"4300.SR\",\n",
    "  \"4310.SR\",\n",
    "  \"4320.SR\",\n",
    "  \"4321.SR\",\n",
    "  \"4322.SR\",\n",
    "#   \"4323.SR\",\n",
    "#   \"70403.SR\",\n",
    "]\n"
   ]
  },
  {
   "cell_type": "code",
   "execution_count": 15,
   "id": "c422cdac",
   "metadata": {},
   "outputs": [
    {
     "name": "stdout",
     "output_type": "stream",
     "text": [
      "WARNING:tensorflow:From C:\\Users\\moham\\AppData\\Roaming\\Python\\Python311\\site-packages\\keras\\src\\backend.py:1398: The name tf.executing_eagerly_outside_functions is deprecated. Please use tf.compat.v1.executing_eagerly_outside_functions instead.\n",
      "\n"
     ]
    }
   ],
   "source": [
    "def load_models(models_path=\"models\"):\n",
    "    trained_models = {}\n",
    "    for symbol in stock_symbols:\n",
    "        model_path = os.path.join(models_path, f'{symbol}_model.h5')\n",
    "        model = load_model(model_path)\n",
    "        trained_models[symbol] = model\n",
    "    return trained_models\n",
    "\n",
    "trained_models = load_models()"
   ]
  },
  {
   "cell_type": "code",
   "execution_count": 17,
   "id": "4b507110",
   "metadata": {},
   "outputs": [
    {
     "name": "stdout",
     "output_type": "stream",
     "text": [
      "INFO:tensorflow:Assets written to: C:\\Users\\moham\\AppData\\Local\\Temp\\tmp8_fc879f\\assets\n"
     ]
    },
    {
     "name": "stderr",
     "output_type": "stream",
     "text": [
      "INFO:tensorflow:Assets written to: C:\\Users\\moham\\AppData\\Local\\Temp\\tmp8_fc879f\\assets\n"
     ]
    },
    {
     "name": "stdout",
     "output_type": "stream",
     "text": [
      "INFO:tensorflow:Assets written to: C:\\Users\\moham\\AppData\\Local\\Temp\\tmp34dn680s\\assets\n"
     ]
    },
    {
     "name": "stderr",
     "output_type": "stream",
     "text": [
      "INFO:tensorflow:Assets written to: C:\\Users\\moham\\AppData\\Local\\Temp\\tmp34dn680s\\assets\n"
     ]
    },
    {
     "name": "stdout",
     "output_type": "stream",
     "text": [
      "INFO:tensorflow:Assets written to: C:\\Users\\moham\\AppData\\Local\\Temp\\tmpgbtovssv\\assets\n"
     ]
    },
    {
     "name": "stderr",
     "output_type": "stream",
     "text": [
      "INFO:tensorflow:Assets written to: C:\\Users\\moham\\AppData\\Local\\Temp\\tmpgbtovssv\\assets\n"
     ]
    },
    {
     "name": "stdout",
     "output_type": "stream",
     "text": [
      "INFO:tensorflow:Assets written to: C:\\Users\\moham\\AppData\\Local\\Temp\\tmprwtndbc1\\assets\n"
     ]
    },
    {
     "name": "stderr",
     "output_type": "stream",
     "text": [
      "INFO:tensorflow:Assets written to: C:\\Users\\moham\\AppData\\Local\\Temp\\tmprwtndbc1\\assets\n"
     ]
    },
    {
     "name": "stdout",
     "output_type": "stream",
     "text": [
      "INFO:tensorflow:Assets written to: C:\\Users\\moham\\AppData\\Local\\Temp\\tmpb_nnpona\\assets\n"
     ]
    },
    {
     "name": "stderr",
     "output_type": "stream",
     "text": [
      "INFO:tensorflow:Assets written to: C:\\Users\\moham\\AppData\\Local\\Temp\\tmpb_nnpona\\assets\n"
     ]
    },
    {
     "name": "stdout",
     "output_type": "stream",
     "text": [
      "INFO:tensorflow:Assets written to: C:\\Users\\moham\\AppData\\Local\\Temp\\tmp0652_zyr\\assets\n"
     ]
    },
    {
     "name": "stderr",
     "output_type": "stream",
     "text": [
      "INFO:tensorflow:Assets written to: C:\\Users\\moham\\AppData\\Local\\Temp\\tmp0652_zyr\\assets\n"
     ]
    },
    {
     "name": "stdout",
     "output_type": "stream",
     "text": [
      "INFO:tensorflow:Assets written to: C:\\Users\\moham\\AppData\\Local\\Temp\\tmp4q_wvzec\\assets\n"
     ]
    },
    {
     "name": "stderr",
     "output_type": "stream",
     "text": [
      "INFO:tensorflow:Assets written to: C:\\Users\\moham\\AppData\\Local\\Temp\\tmp4q_wvzec\\assets\n"
     ]
    },
    {
     "name": "stdout",
     "output_type": "stream",
     "text": [
      "INFO:tensorflow:Assets written to: C:\\Users\\moham\\AppData\\Local\\Temp\\tmpv9mzy02a\\assets\n"
     ]
    },
    {
     "name": "stderr",
     "output_type": "stream",
     "text": [
      "INFO:tensorflow:Assets written to: C:\\Users\\moham\\AppData\\Local\\Temp\\tmpv9mzy02a\\assets\n"
     ]
    },
    {
     "name": "stdout",
     "output_type": "stream",
     "text": [
      "INFO:tensorflow:Assets written to: C:\\Users\\moham\\AppData\\Local\\Temp\\tmpu55d64bf\\assets\n"
     ]
    },
    {
     "name": "stderr",
     "output_type": "stream",
     "text": [
      "INFO:tensorflow:Assets written to: C:\\Users\\moham\\AppData\\Local\\Temp\\tmpu55d64bf\\assets\n"
     ]
    },
    {
     "name": "stdout",
     "output_type": "stream",
     "text": [
      "INFO:tensorflow:Assets written to: C:\\Users\\moham\\AppData\\Local\\Temp\\tmpmty_iy2v\\assets\n"
     ]
    },
    {
     "name": "stderr",
     "output_type": "stream",
     "text": [
      "INFO:tensorflow:Assets written to: C:\\Users\\moham\\AppData\\Local\\Temp\\tmpmty_iy2v\\assets\n"
     ]
    },
    {
     "name": "stdout",
     "output_type": "stream",
     "text": [
      "INFO:tensorflow:Assets written to: C:\\Users\\moham\\AppData\\Local\\Temp\\tmpiwp4n7n8\\assets\n"
     ]
    },
    {
     "name": "stderr",
     "output_type": "stream",
     "text": [
      "INFO:tensorflow:Assets written to: C:\\Users\\moham\\AppData\\Local\\Temp\\tmpiwp4n7n8\\assets\n"
     ]
    },
    {
     "name": "stdout",
     "output_type": "stream",
     "text": [
      "INFO:tensorflow:Assets written to: C:\\Users\\moham\\AppData\\Local\\Temp\\tmpgkl6xp54\\assets\n"
     ]
    },
    {
     "name": "stderr",
     "output_type": "stream",
     "text": [
      "INFO:tensorflow:Assets written to: C:\\Users\\moham\\AppData\\Local\\Temp\\tmpgkl6xp54\\assets\n"
     ]
    },
    {
     "name": "stdout",
     "output_type": "stream",
     "text": [
      "INFO:tensorflow:Assets written to: C:\\Users\\moham\\AppData\\Local\\Temp\\tmpno6lp8kg\\assets\n"
     ]
    },
    {
     "name": "stderr",
     "output_type": "stream",
     "text": [
      "INFO:tensorflow:Assets written to: C:\\Users\\moham\\AppData\\Local\\Temp\\tmpno6lp8kg\\assets\n"
     ]
    },
    {
     "name": "stdout",
     "output_type": "stream",
     "text": [
      "INFO:tensorflow:Assets written to: C:\\Users\\moham\\AppData\\Local\\Temp\\tmpff2iiijj\\assets\n"
     ]
    },
    {
     "name": "stderr",
     "output_type": "stream",
     "text": [
      "INFO:tensorflow:Assets written to: C:\\Users\\moham\\AppData\\Local\\Temp\\tmpff2iiijj\\assets\n"
     ]
    },
    {
     "name": "stdout",
     "output_type": "stream",
     "text": [
      "INFO:tensorflow:Assets written to: C:\\Users\\moham\\AppData\\Local\\Temp\\tmpr6rv1l4g\\assets\n"
     ]
    },
    {
     "name": "stderr",
     "output_type": "stream",
     "text": [
      "INFO:tensorflow:Assets written to: C:\\Users\\moham\\AppData\\Local\\Temp\\tmpr6rv1l4g\\assets\n"
     ]
    },
    {
     "name": "stdout",
     "output_type": "stream",
     "text": [
      "INFO:tensorflow:Assets written to: C:\\Users\\moham\\AppData\\Local\\Temp\\tmp8qklx5dk\\assets\n"
     ]
    },
    {
     "name": "stderr",
     "output_type": "stream",
     "text": [
      "INFO:tensorflow:Assets written to: C:\\Users\\moham\\AppData\\Local\\Temp\\tmp8qklx5dk\\assets\n"
     ]
    },
    {
     "name": "stdout",
     "output_type": "stream",
     "text": [
      "INFO:tensorflow:Assets written to: C:\\Users\\moham\\AppData\\Local\\Temp\\tmpifdqxjwv\\assets\n"
     ]
    },
    {
     "name": "stderr",
     "output_type": "stream",
     "text": [
      "INFO:tensorflow:Assets written to: C:\\Users\\moham\\AppData\\Local\\Temp\\tmpifdqxjwv\\assets\n"
     ]
    },
    {
     "name": "stdout",
     "output_type": "stream",
     "text": [
      "INFO:tensorflow:Assets written to: C:\\Users\\moham\\AppData\\Local\\Temp\\tmp7savijoq\\assets\n"
     ]
    },
    {
     "name": "stderr",
     "output_type": "stream",
     "text": [
      "INFO:tensorflow:Assets written to: C:\\Users\\moham\\AppData\\Local\\Temp\\tmp7savijoq\\assets\n"
     ]
    },
    {
     "name": "stdout",
     "output_type": "stream",
     "text": [
      "INFO:tensorflow:Assets written to: C:\\Users\\moham\\AppData\\Local\\Temp\\tmpgj1w8gy9\\assets\n"
     ]
    },
    {
     "name": "stderr",
     "output_type": "stream",
     "text": [
      "INFO:tensorflow:Assets written to: C:\\Users\\moham\\AppData\\Local\\Temp\\tmpgj1w8gy9\\assets\n"
     ]
    },
    {
     "name": "stdout",
     "output_type": "stream",
     "text": [
      "INFO:tensorflow:Assets written to: C:\\Users\\moham\\AppData\\Local\\Temp\\tmpnw663xll\\assets\n"
     ]
    },
    {
     "name": "stderr",
     "output_type": "stream",
     "text": [
      "INFO:tensorflow:Assets written to: C:\\Users\\moham\\AppData\\Local\\Temp\\tmpnw663xll\\assets\n"
     ]
    },
    {
     "name": "stdout",
     "output_type": "stream",
     "text": [
      "INFO:tensorflow:Assets written to: C:\\Users\\moham\\AppData\\Local\\Temp\\tmp0265w53m\\assets\n"
     ]
    },
    {
     "name": "stderr",
     "output_type": "stream",
     "text": [
      "INFO:tensorflow:Assets written to: C:\\Users\\moham\\AppData\\Local\\Temp\\tmp0265w53m\\assets\n"
     ]
    },
    {
     "name": "stdout",
     "output_type": "stream",
     "text": [
      "INFO:tensorflow:Assets written to: C:\\Users\\moham\\AppData\\Local\\Temp\\tmpriezdtn6\\assets\n"
     ]
    },
    {
     "name": "stderr",
     "output_type": "stream",
     "text": [
      "INFO:tensorflow:Assets written to: C:\\Users\\moham\\AppData\\Local\\Temp\\tmpriezdtn6\\assets\n"
     ]
    },
    {
     "name": "stdout",
     "output_type": "stream",
     "text": [
      "INFO:tensorflow:Assets written to: C:\\Users\\moham\\AppData\\Local\\Temp\\tmpwhlmj75k\\assets\n"
     ]
    },
    {
     "name": "stderr",
     "output_type": "stream",
     "text": [
      "INFO:tensorflow:Assets written to: C:\\Users\\moham\\AppData\\Local\\Temp\\tmpwhlmj75k\\assets\n"
     ]
    },
    {
     "name": "stdout",
     "output_type": "stream",
     "text": [
      "INFO:tensorflow:Assets written to: C:\\Users\\moham\\AppData\\Local\\Temp\\tmp4228vq9i\\assets\n"
     ]
    },
    {
     "name": "stderr",
     "output_type": "stream",
     "text": [
      "INFO:tensorflow:Assets written to: C:\\Users\\moham\\AppData\\Local\\Temp\\tmp4228vq9i\\assets\n"
     ]
    },
    {
     "name": "stdout",
     "output_type": "stream",
     "text": [
      "INFO:tensorflow:Assets written to: C:\\Users\\moham\\AppData\\Local\\Temp\\tmpqhngwo5w\\assets\n"
     ]
    },
    {
     "name": "stderr",
     "output_type": "stream",
     "text": [
      "INFO:tensorflow:Assets written to: C:\\Users\\moham\\AppData\\Local\\Temp\\tmpqhngwo5w\\assets\n"
     ]
    },
    {
     "name": "stdout",
     "output_type": "stream",
     "text": [
      "INFO:tensorflow:Assets written to: C:\\Users\\moham\\AppData\\Local\\Temp\\tmpros4z_x3\\assets\n"
     ]
    },
    {
     "name": "stderr",
     "output_type": "stream",
     "text": [
      "INFO:tensorflow:Assets written to: C:\\Users\\moham\\AppData\\Local\\Temp\\tmpros4z_x3\\assets\n"
     ]
    },
    {
     "name": "stdout",
     "output_type": "stream",
     "text": [
      "INFO:tensorflow:Assets written to: C:\\Users\\moham\\AppData\\Local\\Temp\\tmp_6_rvf7l\\assets\n"
     ]
    },
    {
     "name": "stderr",
     "output_type": "stream",
     "text": [
      "INFO:tensorflow:Assets written to: C:\\Users\\moham\\AppData\\Local\\Temp\\tmp_6_rvf7l\\assets\n"
     ]
    },
    {
     "name": "stdout",
     "output_type": "stream",
     "text": [
      "INFO:tensorflow:Assets written to: C:\\Users\\moham\\AppData\\Local\\Temp\\tmptlru7xy6\\assets\n"
     ]
    },
    {
     "name": "stderr",
     "output_type": "stream",
     "text": [
      "INFO:tensorflow:Assets written to: C:\\Users\\moham\\AppData\\Local\\Temp\\tmptlru7xy6\\assets\n"
     ]
    },
    {
     "name": "stdout",
     "output_type": "stream",
     "text": [
      "INFO:tensorflow:Assets written to: C:\\Users\\moham\\AppData\\Local\\Temp\\tmp4eohx497\\assets\n"
     ]
    },
    {
     "name": "stderr",
     "output_type": "stream",
     "text": [
      "INFO:tensorflow:Assets written to: C:\\Users\\moham\\AppData\\Local\\Temp\\tmp4eohx497\\assets\n"
     ]
    },
    {
     "name": "stdout",
     "output_type": "stream",
     "text": [
      "INFO:tensorflow:Assets written to: C:\\Users\\moham\\AppData\\Local\\Temp\\tmpa890l0ph\\assets\n"
     ]
    },
    {
     "name": "stderr",
     "output_type": "stream",
     "text": [
      "INFO:tensorflow:Assets written to: C:\\Users\\moham\\AppData\\Local\\Temp\\tmpa890l0ph\\assets\n"
     ]
    },
    {
     "name": "stdout",
     "output_type": "stream",
     "text": [
      "INFO:tensorflow:Assets written to: C:\\Users\\moham\\AppData\\Local\\Temp\\tmp4um8036i\\assets\n"
     ]
    },
    {
     "name": "stderr",
     "output_type": "stream",
     "text": [
      "INFO:tensorflow:Assets written to: C:\\Users\\moham\\AppData\\Local\\Temp\\tmp4um8036i\\assets\n"
     ]
    },
    {
     "name": "stdout",
     "output_type": "stream",
     "text": [
      "INFO:tensorflow:Assets written to: C:\\Users\\moham\\AppData\\Local\\Temp\\tmprbrm61ry\\assets\n"
     ]
    },
    {
     "name": "stderr",
     "output_type": "stream",
     "text": [
      "INFO:tensorflow:Assets written to: C:\\Users\\moham\\AppData\\Local\\Temp\\tmprbrm61ry\\assets\n"
     ]
    },
    {
     "name": "stdout",
     "output_type": "stream",
     "text": [
      "INFO:tensorflow:Assets written to: C:\\Users\\moham\\AppData\\Local\\Temp\\tmp105kxcs_\\assets\n"
     ]
    },
    {
     "name": "stderr",
     "output_type": "stream",
     "text": [
      "INFO:tensorflow:Assets written to: C:\\Users\\moham\\AppData\\Local\\Temp\\tmp105kxcs_\\assets\n"
     ]
    },
    {
     "name": "stdout",
     "output_type": "stream",
     "text": [
      "INFO:tensorflow:Assets written to: C:\\Users\\moham\\AppData\\Local\\Temp\\tmpa69gisdl\\assets\n"
     ]
    },
    {
     "name": "stderr",
     "output_type": "stream",
     "text": [
      "INFO:tensorflow:Assets written to: C:\\Users\\moham\\AppData\\Local\\Temp\\tmpa69gisdl\\assets\n"
     ]
    },
    {
     "name": "stdout",
     "output_type": "stream",
     "text": [
      "INFO:tensorflow:Assets written to: C:\\Users\\moham\\AppData\\Local\\Temp\\tmpkm_b5udy\\assets\n"
     ]
    },
    {
     "name": "stderr",
     "output_type": "stream",
     "text": [
      "INFO:tensorflow:Assets written to: C:\\Users\\moham\\AppData\\Local\\Temp\\tmpkm_b5udy\\assets\n"
     ]
    },
    {
     "name": "stdout",
     "output_type": "stream",
     "text": [
      "INFO:tensorflow:Assets written to: C:\\Users\\moham\\AppData\\Local\\Temp\\tmp2tvo04a_\\assets\n"
     ]
    },
    {
     "name": "stderr",
     "output_type": "stream",
     "text": [
      "INFO:tensorflow:Assets written to: C:\\Users\\moham\\AppData\\Local\\Temp\\tmp2tvo04a_\\assets\n"
     ]
    },
    {
     "name": "stdout",
     "output_type": "stream",
     "text": [
      "INFO:tensorflow:Assets written to: C:\\Users\\moham\\AppData\\Local\\Temp\\tmpn4i8svo2\\assets\n"
     ]
    },
    {
     "name": "stderr",
     "output_type": "stream",
     "text": [
      "INFO:tensorflow:Assets written to: C:\\Users\\moham\\AppData\\Local\\Temp\\tmpn4i8svo2\\assets\n"
     ]
    },
    {
     "name": "stdout",
     "output_type": "stream",
     "text": [
      "INFO:tensorflow:Assets written to: C:\\Users\\moham\\AppData\\Local\\Temp\\tmp9x0nxedf\\assets\n"
     ]
    },
    {
     "name": "stderr",
     "output_type": "stream",
     "text": [
      "INFO:tensorflow:Assets written to: C:\\Users\\moham\\AppData\\Local\\Temp\\tmp9x0nxedf\\assets\n"
     ]
    },
    {
     "name": "stdout",
     "output_type": "stream",
     "text": [
      "INFO:tensorflow:Assets written to: C:\\Users\\moham\\AppData\\Local\\Temp\\tmpqmwbyirf\\assets\n"
     ]
    },
    {
     "name": "stderr",
     "output_type": "stream",
     "text": [
      "INFO:tensorflow:Assets written to: C:\\Users\\moham\\AppData\\Local\\Temp\\tmpqmwbyirf\\assets\n"
     ]
    },
    {
     "name": "stdout",
     "output_type": "stream",
     "text": [
      "INFO:tensorflow:Assets written to: C:\\Users\\moham\\AppData\\Local\\Temp\\tmp_8c1xt4u\\assets\n"
     ]
    },
    {
     "name": "stderr",
     "output_type": "stream",
     "text": [
      "INFO:tensorflow:Assets written to: C:\\Users\\moham\\AppData\\Local\\Temp\\tmp_8c1xt4u\\assets\n"
     ]
    },
    {
     "name": "stdout",
     "output_type": "stream",
     "text": [
      "INFO:tensorflow:Assets written to: C:\\Users\\moham\\AppData\\Local\\Temp\\tmpfcl_sxy9\\assets\n"
     ]
    },
    {
     "name": "stderr",
     "output_type": "stream",
     "text": [
      "INFO:tensorflow:Assets written to: C:\\Users\\moham\\AppData\\Local\\Temp\\tmpfcl_sxy9\\assets\n"
     ]
    },
    {
     "name": "stdout",
     "output_type": "stream",
     "text": [
      "INFO:tensorflow:Assets written to: C:\\Users\\moham\\AppData\\Local\\Temp\\tmpvlfzzu4i\\assets\n"
     ]
    },
    {
     "name": "stderr",
     "output_type": "stream",
     "text": [
      "INFO:tensorflow:Assets written to: C:\\Users\\moham\\AppData\\Local\\Temp\\tmpvlfzzu4i\\assets\n"
     ]
    },
    {
     "name": "stdout",
     "output_type": "stream",
     "text": [
      "INFO:tensorflow:Assets written to: C:\\Users\\moham\\AppData\\Local\\Temp\\tmp_x7hzo3j\\assets\n"
     ]
    },
    {
     "name": "stderr",
     "output_type": "stream",
     "text": [
      "INFO:tensorflow:Assets written to: C:\\Users\\moham\\AppData\\Local\\Temp\\tmp_x7hzo3j\\assets\n"
     ]
    },
    {
     "name": "stdout",
     "output_type": "stream",
     "text": [
      "INFO:tensorflow:Assets written to: C:\\Users\\moham\\AppData\\Local\\Temp\\tmpooaffx2v\\assets\n"
     ]
    },
    {
     "name": "stderr",
     "output_type": "stream",
     "text": [
      "INFO:tensorflow:Assets written to: C:\\Users\\moham\\AppData\\Local\\Temp\\tmpooaffx2v\\assets\n"
     ]
    },
    {
     "name": "stdout",
     "output_type": "stream",
     "text": [
      "INFO:tensorflow:Assets written to: C:\\Users\\moham\\AppData\\Local\\Temp\\tmp3vqu4aig\\assets\n"
     ]
    },
    {
     "name": "stderr",
     "output_type": "stream",
     "text": [
      "INFO:tensorflow:Assets written to: C:\\Users\\moham\\AppData\\Local\\Temp\\tmp3vqu4aig\\assets\n"
     ]
    },
    {
     "name": "stdout",
     "output_type": "stream",
     "text": [
      "INFO:tensorflow:Assets written to: C:\\Users\\moham\\AppData\\Local\\Temp\\tmpfns564qx\\assets\n"
     ]
    },
    {
     "name": "stderr",
     "output_type": "stream",
     "text": [
      "INFO:tensorflow:Assets written to: C:\\Users\\moham\\AppData\\Local\\Temp\\tmpfns564qx\\assets\n"
     ]
    },
    {
     "name": "stdout",
     "output_type": "stream",
     "text": [
      "INFO:tensorflow:Assets written to: C:\\Users\\moham\\AppData\\Local\\Temp\\tmpo0iow8h6\\assets\n"
     ]
    },
    {
     "name": "stderr",
     "output_type": "stream",
     "text": [
      "INFO:tensorflow:Assets written to: C:\\Users\\moham\\AppData\\Local\\Temp\\tmpo0iow8h6\\assets\n"
     ]
    },
    {
     "name": "stdout",
     "output_type": "stream",
     "text": [
      "INFO:tensorflow:Assets written to: C:\\Users\\moham\\AppData\\Local\\Temp\\tmpl4i2l894\\assets\n"
     ]
    },
    {
     "name": "stderr",
     "output_type": "stream",
     "text": [
      "INFO:tensorflow:Assets written to: C:\\Users\\moham\\AppData\\Local\\Temp\\tmpl4i2l894\\assets\n"
     ]
    },
    {
     "name": "stdout",
     "output_type": "stream",
     "text": [
      "INFO:tensorflow:Assets written to: C:\\Users\\moham\\AppData\\Local\\Temp\\tmpaj4ov174\\assets\n"
     ]
    },
    {
     "name": "stderr",
     "output_type": "stream",
     "text": [
      "INFO:tensorflow:Assets written to: C:\\Users\\moham\\AppData\\Local\\Temp\\tmpaj4ov174\\assets\n"
     ]
    },
    {
     "name": "stdout",
     "output_type": "stream",
     "text": [
      "INFO:tensorflow:Assets written to: C:\\Users\\moham\\AppData\\Local\\Temp\\tmp_86yzabu\\assets\n"
     ]
    },
    {
     "name": "stderr",
     "output_type": "stream",
     "text": [
      "INFO:tensorflow:Assets written to: C:\\Users\\moham\\AppData\\Local\\Temp\\tmp_86yzabu\\assets\n"
     ]
    },
    {
     "name": "stdout",
     "output_type": "stream",
     "text": [
      "INFO:tensorflow:Assets written to: C:\\Users\\moham\\AppData\\Local\\Temp\\tmpo8jp3321\\assets\n"
     ]
    },
    {
     "name": "stderr",
     "output_type": "stream",
     "text": [
      "INFO:tensorflow:Assets written to: C:\\Users\\moham\\AppData\\Local\\Temp\\tmpo8jp3321\\assets\n"
     ]
    },
    {
     "name": "stdout",
     "output_type": "stream",
     "text": [
      "INFO:tensorflow:Assets written to: C:\\Users\\moham\\AppData\\Local\\Temp\\tmp39j5mnzu\\assets\n"
     ]
    },
    {
     "name": "stderr",
     "output_type": "stream",
     "text": [
      "INFO:tensorflow:Assets written to: C:\\Users\\moham\\AppData\\Local\\Temp\\tmp39j5mnzu\\assets\n"
     ]
    },
    {
     "name": "stdout",
     "output_type": "stream",
     "text": [
      "INFO:tensorflow:Assets written to: C:\\Users\\moham\\AppData\\Local\\Temp\\tmpja7_kq0s\\assets\n"
     ]
    },
    {
     "name": "stderr",
     "output_type": "stream",
     "text": [
      "INFO:tensorflow:Assets written to: C:\\Users\\moham\\AppData\\Local\\Temp\\tmpja7_kq0s\\assets\n"
     ]
    },
    {
     "name": "stdout",
     "output_type": "stream",
     "text": [
      "INFO:tensorflow:Assets written to: C:\\Users\\moham\\AppData\\Local\\Temp\\tmp7bcpqv69\\assets\n"
     ]
    },
    {
     "name": "stderr",
     "output_type": "stream",
     "text": [
      "INFO:tensorflow:Assets written to: C:\\Users\\moham\\AppData\\Local\\Temp\\tmp7bcpqv69\\assets\n"
     ]
    },
    {
     "name": "stdout",
     "output_type": "stream",
     "text": [
      "INFO:tensorflow:Assets written to: C:\\Users\\moham\\AppData\\Local\\Temp\\tmperzgj8uz\\assets\n"
     ]
    },
    {
     "name": "stderr",
     "output_type": "stream",
     "text": [
      "INFO:tensorflow:Assets written to: C:\\Users\\moham\\AppData\\Local\\Temp\\tmperzgj8uz\\assets\n"
     ]
    },
    {
     "name": "stdout",
     "output_type": "stream",
     "text": [
      "INFO:tensorflow:Assets written to: C:\\Users\\moham\\AppData\\Local\\Temp\\tmpm0y3uh65\\assets\n"
     ]
    },
    {
     "name": "stderr",
     "output_type": "stream",
     "text": [
      "INFO:tensorflow:Assets written to: C:\\Users\\moham\\AppData\\Local\\Temp\\tmpm0y3uh65\\assets\n"
     ]
    },
    {
     "name": "stdout",
     "output_type": "stream",
     "text": [
      "INFO:tensorflow:Assets written to: C:\\Users\\moham\\AppData\\Local\\Temp\\tmpg8gmx9ad\\assets\n"
     ]
    },
    {
     "name": "stderr",
     "output_type": "stream",
     "text": [
      "INFO:tensorflow:Assets written to: C:\\Users\\moham\\AppData\\Local\\Temp\\tmpg8gmx9ad\\assets\n"
     ]
    },
    {
     "name": "stdout",
     "output_type": "stream",
     "text": [
      "INFO:tensorflow:Assets written to: C:\\Users\\moham\\AppData\\Local\\Temp\\tmpzgrd1qzs\\assets\n"
     ]
    },
    {
     "name": "stderr",
     "output_type": "stream",
     "text": [
      "INFO:tensorflow:Assets written to: C:\\Users\\moham\\AppData\\Local\\Temp\\tmpzgrd1qzs\\assets\n"
     ]
    },
    {
     "name": "stdout",
     "output_type": "stream",
     "text": [
      "INFO:tensorflow:Assets written to: C:\\Users\\moham\\AppData\\Local\\Temp\\tmpwdw70iea\\assets\n"
     ]
    },
    {
     "name": "stderr",
     "output_type": "stream",
     "text": [
      "INFO:tensorflow:Assets written to: C:\\Users\\moham\\AppData\\Local\\Temp\\tmpwdw70iea\\assets\n"
     ]
    },
    {
     "name": "stdout",
     "output_type": "stream",
     "text": [
      "INFO:tensorflow:Assets written to: C:\\Users\\moham\\AppData\\Local\\Temp\\tmpd05ilsqm\\assets\n"
     ]
    },
    {
     "name": "stderr",
     "output_type": "stream",
     "text": [
      "INFO:tensorflow:Assets written to: C:\\Users\\moham\\AppData\\Local\\Temp\\tmpd05ilsqm\\assets\n"
     ]
    },
    {
     "name": "stdout",
     "output_type": "stream",
     "text": [
      "INFO:tensorflow:Assets written to: C:\\Users\\moham\\AppData\\Local\\Temp\\tmp4buwd4ly\\assets\n"
     ]
    },
    {
     "name": "stderr",
     "output_type": "stream",
     "text": [
      "INFO:tensorflow:Assets written to: C:\\Users\\moham\\AppData\\Local\\Temp\\tmp4buwd4ly\\assets\n"
     ]
    },
    {
     "name": "stdout",
     "output_type": "stream",
     "text": [
      "INFO:tensorflow:Assets written to: C:\\Users\\moham\\AppData\\Local\\Temp\\tmpz1n0kmoy\\assets\n"
     ]
    },
    {
     "name": "stderr",
     "output_type": "stream",
     "text": [
      "INFO:tensorflow:Assets written to: C:\\Users\\moham\\AppData\\Local\\Temp\\tmpz1n0kmoy\\assets\n"
     ]
    },
    {
     "name": "stdout",
     "output_type": "stream",
     "text": [
      "INFO:tensorflow:Assets written to: C:\\Users\\moham\\AppData\\Local\\Temp\\tmphuoxh6id\\assets\n"
     ]
    },
    {
     "name": "stderr",
     "output_type": "stream",
     "text": [
      "INFO:tensorflow:Assets written to: C:\\Users\\moham\\AppData\\Local\\Temp\\tmphuoxh6id\\assets\n"
     ]
    },
    {
     "name": "stdout",
     "output_type": "stream",
     "text": [
      "INFO:tensorflow:Assets written to: C:\\Users\\moham\\AppData\\Local\\Temp\\tmp1mhym8m8\\assets\n"
     ]
    },
    {
     "name": "stderr",
     "output_type": "stream",
     "text": [
      "INFO:tensorflow:Assets written to: C:\\Users\\moham\\AppData\\Local\\Temp\\tmp1mhym8m8\\assets\n"
     ]
    },
    {
     "name": "stdout",
     "output_type": "stream",
     "text": [
      "INFO:tensorflow:Assets written to: C:\\Users\\moham\\AppData\\Local\\Temp\\tmp4beyz3un\\assets\n"
     ]
    },
    {
     "name": "stderr",
     "output_type": "stream",
     "text": [
      "INFO:tensorflow:Assets written to: C:\\Users\\moham\\AppData\\Local\\Temp\\tmp4beyz3un\\assets\n"
     ]
    },
    {
     "name": "stdout",
     "output_type": "stream",
     "text": [
      "INFO:tensorflow:Assets written to: C:\\Users\\moham\\AppData\\Local\\Temp\\tmpky_g0ggf\\assets\n"
     ]
    },
    {
     "name": "stderr",
     "output_type": "stream",
     "text": [
      "INFO:tensorflow:Assets written to: C:\\Users\\moham\\AppData\\Local\\Temp\\tmpky_g0ggf\\assets\n"
     ]
    },
    {
     "name": "stdout",
     "output_type": "stream",
     "text": [
      "INFO:tensorflow:Assets written to: C:\\Users\\moham\\AppData\\Local\\Temp\\tmpc3bx13sy\\assets\n"
     ]
    },
    {
     "name": "stderr",
     "output_type": "stream",
     "text": [
      "INFO:tensorflow:Assets written to: C:\\Users\\moham\\AppData\\Local\\Temp\\tmpc3bx13sy\\assets\n"
     ]
    },
    {
     "name": "stdout",
     "output_type": "stream",
     "text": [
      "INFO:tensorflow:Assets written to: C:\\Users\\moham\\AppData\\Local\\Temp\\tmppgrxe141\\assets\n"
     ]
    },
    {
     "name": "stderr",
     "output_type": "stream",
     "text": [
      "INFO:tensorflow:Assets written to: C:\\Users\\moham\\AppData\\Local\\Temp\\tmppgrxe141\\assets\n"
     ]
    },
    {
     "name": "stdout",
     "output_type": "stream",
     "text": [
      "INFO:tensorflow:Assets written to: C:\\Users\\moham\\AppData\\Local\\Temp\\tmpho4ndj1n\\assets\n"
     ]
    },
    {
     "name": "stderr",
     "output_type": "stream",
     "text": [
      "INFO:tensorflow:Assets written to: C:\\Users\\moham\\AppData\\Local\\Temp\\tmpho4ndj1n\\assets\n"
     ]
    },
    {
     "name": "stdout",
     "output_type": "stream",
     "text": [
      "INFO:tensorflow:Assets written to: C:\\Users\\moham\\AppData\\Local\\Temp\\tmpoou6hk1r\\assets\n"
     ]
    },
    {
     "name": "stderr",
     "output_type": "stream",
     "text": [
      "INFO:tensorflow:Assets written to: C:\\Users\\moham\\AppData\\Local\\Temp\\tmpoou6hk1r\\assets\n"
     ]
    },
    {
     "name": "stdout",
     "output_type": "stream",
     "text": [
      "INFO:tensorflow:Assets written to: C:\\Users\\moham\\AppData\\Local\\Temp\\tmptnjd0gh_\\assets\n"
     ]
    },
    {
     "name": "stderr",
     "output_type": "stream",
     "text": [
      "INFO:tensorflow:Assets written to: C:\\Users\\moham\\AppData\\Local\\Temp\\tmptnjd0gh_\\assets\n"
     ]
    },
    {
     "name": "stdout",
     "output_type": "stream",
     "text": [
      "INFO:tensorflow:Assets written to: C:\\Users\\moham\\AppData\\Local\\Temp\\tmpjf6nlupf\\assets\n"
     ]
    },
    {
     "name": "stderr",
     "output_type": "stream",
     "text": [
      "INFO:tensorflow:Assets written to: C:\\Users\\moham\\AppData\\Local\\Temp\\tmpjf6nlupf\\assets\n"
     ]
    },
    {
     "name": "stdout",
     "output_type": "stream",
     "text": [
      "INFO:tensorflow:Assets written to: C:\\Users\\moham\\AppData\\Local\\Temp\\tmp9q9vl7sy\\assets\n"
     ]
    },
    {
     "name": "stderr",
     "output_type": "stream",
     "text": [
      "INFO:tensorflow:Assets written to: C:\\Users\\moham\\AppData\\Local\\Temp\\tmp9q9vl7sy\\assets\n"
     ]
    },
    {
     "name": "stdout",
     "output_type": "stream",
     "text": [
      "INFO:tensorflow:Assets written to: C:\\Users\\moham\\AppData\\Local\\Temp\\tmpgoss9vq8\\assets\n"
     ]
    },
    {
     "name": "stderr",
     "output_type": "stream",
     "text": [
      "INFO:tensorflow:Assets written to: C:\\Users\\moham\\AppData\\Local\\Temp\\tmpgoss9vq8\\assets\n"
     ]
    },
    {
     "name": "stdout",
     "output_type": "stream",
     "text": [
      "INFO:tensorflow:Assets written to: C:\\Users\\moham\\AppData\\Local\\Temp\\tmpqobnhxy8\\assets\n"
     ]
    },
    {
     "name": "stderr",
     "output_type": "stream",
     "text": [
      "INFO:tensorflow:Assets written to: C:\\Users\\moham\\AppData\\Local\\Temp\\tmpqobnhxy8\\assets\n"
     ]
    },
    {
     "name": "stdout",
     "output_type": "stream",
     "text": [
      "INFO:tensorflow:Assets written to: C:\\Users\\moham\\AppData\\Local\\Temp\\tmp0d5p9c76\\assets\n"
     ]
    },
    {
     "name": "stderr",
     "output_type": "stream",
     "text": [
      "INFO:tensorflow:Assets written to: C:\\Users\\moham\\AppData\\Local\\Temp\\tmp0d5p9c76\\assets\n"
     ]
    },
    {
     "name": "stdout",
     "output_type": "stream",
     "text": [
      "INFO:tensorflow:Assets written to: C:\\Users\\moham\\AppData\\Local\\Temp\\tmpf83pwaey\\assets\n"
     ]
    },
    {
     "name": "stderr",
     "output_type": "stream",
     "text": [
      "INFO:tensorflow:Assets written to: C:\\Users\\moham\\AppData\\Local\\Temp\\tmpf83pwaey\\assets\n"
     ]
    },
    {
     "name": "stdout",
     "output_type": "stream",
     "text": [
      "INFO:tensorflow:Assets written to: C:\\Users\\moham\\AppData\\Local\\Temp\\tmpymgobsc5\\assets\n"
     ]
    },
    {
     "name": "stderr",
     "output_type": "stream",
     "text": [
      "INFO:tensorflow:Assets written to: C:\\Users\\moham\\AppData\\Local\\Temp\\tmpymgobsc5\\assets\n"
     ]
    },
    {
     "name": "stdout",
     "output_type": "stream",
     "text": [
      "INFO:tensorflow:Assets written to: C:\\Users\\moham\\AppData\\Local\\Temp\\tmp2h345crf\\assets\n"
     ]
    },
    {
     "name": "stderr",
     "output_type": "stream",
     "text": [
      "INFO:tensorflow:Assets written to: C:\\Users\\moham\\AppData\\Local\\Temp\\tmp2h345crf\\assets\n"
     ]
    },
    {
     "name": "stdout",
     "output_type": "stream",
     "text": [
      "INFO:tensorflow:Assets written to: C:\\Users\\moham\\AppData\\Local\\Temp\\tmpeg89v8fm\\assets\n"
     ]
    },
    {
     "name": "stderr",
     "output_type": "stream",
     "text": [
      "INFO:tensorflow:Assets written to: C:\\Users\\moham\\AppData\\Local\\Temp\\tmpeg89v8fm\\assets\n"
     ]
    },
    {
     "name": "stdout",
     "output_type": "stream",
     "text": [
      "INFO:tensorflow:Assets written to: C:\\Users\\moham\\AppData\\Local\\Temp\\tmpoy1lkiej\\assets\n"
     ]
    },
    {
     "name": "stderr",
     "output_type": "stream",
     "text": [
      "INFO:tensorflow:Assets written to: C:\\Users\\moham\\AppData\\Local\\Temp\\tmpoy1lkiej\\assets\n"
     ]
    },
    {
     "name": "stdout",
     "output_type": "stream",
     "text": [
      "INFO:tensorflow:Assets written to: C:\\Users\\moham\\AppData\\Local\\Temp\\tmpm9g3blf7\\assets\n"
     ]
    },
    {
     "name": "stderr",
     "output_type": "stream",
     "text": [
      "INFO:tensorflow:Assets written to: C:\\Users\\moham\\AppData\\Local\\Temp\\tmpm9g3blf7\\assets\n"
     ]
    },
    {
     "name": "stdout",
     "output_type": "stream",
     "text": [
      "INFO:tensorflow:Assets written to: C:\\Users\\moham\\AppData\\Local\\Temp\\tmpczyavi3r\\assets\n"
     ]
    },
    {
     "name": "stderr",
     "output_type": "stream",
     "text": [
      "INFO:tensorflow:Assets written to: C:\\Users\\moham\\AppData\\Local\\Temp\\tmpczyavi3r\\assets\n"
     ]
    },
    {
     "name": "stdout",
     "output_type": "stream",
     "text": [
      "INFO:tensorflow:Assets written to: C:\\Users\\moham\\AppData\\Local\\Temp\\tmpxfewc3r6\\assets\n"
     ]
    },
    {
     "name": "stderr",
     "output_type": "stream",
     "text": [
      "INFO:tensorflow:Assets written to: C:\\Users\\moham\\AppData\\Local\\Temp\\tmpxfewc3r6\\assets\n"
     ]
    },
    {
     "name": "stdout",
     "output_type": "stream",
     "text": [
      "INFO:tensorflow:Assets written to: C:\\Users\\moham\\AppData\\Local\\Temp\\tmptsksqs9o\\assets\n"
     ]
    },
    {
     "name": "stderr",
     "output_type": "stream",
     "text": [
      "INFO:tensorflow:Assets written to: C:\\Users\\moham\\AppData\\Local\\Temp\\tmptsksqs9o\\assets\n"
     ]
    },
    {
     "name": "stdout",
     "output_type": "stream",
     "text": [
      "INFO:tensorflow:Assets written to: C:\\Users\\moham\\AppData\\Local\\Temp\\tmppqdttp7o\\assets\n"
     ]
    },
    {
     "name": "stderr",
     "output_type": "stream",
     "text": [
      "INFO:tensorflow:Assets written to: C:\\Users\\moham\\AppData\\Local\\Temp\\tmppqdttp7o\\assets\n"
     ]
    },
    {
     "name": "stdout",
     "output_type": "stream",
     "text": [
      "INFO:tensorflow:Assets written to: C:\\Users\\moham\\AppData\\Local\\Temp\\tmp002x9_qd\\assets\n"
     ]
    },
    {
     "name": "stderr",
     "output_type": "stream",
     "text": [
      "INFO:tensorflow:Assets written to: C:\\Users\\moham\\AppData\\Local\\Temp\\tmp002x9_qd\\assets\n"
     ]
    },
    {
     "name": "stdout",
     "output_type": "stream",
     "text": [
      "INFO:tensorflow:Assets written to: C:\\Users\\moham\\AppData\\Local\\Temp\\tmpjvj8dz6t\\assets\n"
     ]
    },
    {
     "name": "stderr",
     "output_type": "stream",
     "text": [
      "INFO:tensorflow:Assets written to: C:\\Users\\moham\\AppData\\Local\\Temp\\tmpjvj8dz6t\\assets\n"
     ]
    },
    {
     "name": "stdout",
     "output_type": "stream",
     "text": [
      "INFO:tensorflow:Assets written to: C:\\Users\\moham\\AppData\\Local\\Temp\\tmp9dxvdxnk\\assets\n"
     ]
    },
    {
     "name": "stderr",
     "output_type": "stream",
     "text": [
      "INFO:tensorflow:Assets written to: C:\\Users\\moham\\AppData\\Local\\Temp\\tmp9dxvdxnk\\assets\n"
     ]
    },
    {
     "name": "stdout",
     "output_type": "stream",
     "text": [
      "INFO:tensorflow:Assets written to: C:\\Users\\moham\\AppData\\Local\\Temp\\tmp6bs_fbpv\\assets\n"
     ]
    },
    {
     "name": "stderr",
     "output_type": "stream",
     "text": [
      "INFO:tensorflow:Assets written to: C:\\Users\\moham\\AppData\\Local\\Temp\\tmp6bs_fbpv\\assets\n"
     ]
    },
    {
     "name": "stdout",
     "output_type": "stream",
     "text": [
      "INFO:tensorflow:Assets written to: C:\\Users\\moham\\AppData\\Local\\Temp\\tmpj9mgbgbr\\assets\n"
     ]
    },
    {
     "name": "stderr",
     "output_type": "stream",
     "text": [
      "INFO:tensorflow:Assets written to: C:\\Users\\moham\\AppData\\Local\\Temp\\tmpj9mgbgbr\\assets\n"
     ]
    },
    {
     "name": "stdout",
     "output_type": "stream",
     "text": [
      "INFO:tensorflow:Assets written to: C:\\Users\\moham\\AppData\\Local\\Temp\\tmpg0m1k24r\\assets\n"
     ]
    },
    {
     "name": "stderr",
     "output_type": "stream",
     "text": [
      "INFO:tensorflow:Assets written to: C:\\Users\\moham\\AppData\\Local\\Temp\\tmpg0m1k24r\\assets\n"
     ]
    },
    {
     "name": "stdout",
     "output_type": "stream",
     "text": [
      "INFO:tensorflow:Assets written to: C:\\Users\\moham\\AppData\\Local\\Temp\\tmpswtexqp4\\assets\n"
     ]
    },
    {
     "name": "stderr",
     "output_type": "stream",
     "text": [
      "INFO:tensorflow:Assets written to: C:\\Users\\moham\\AppData\\Local\\Temp\\tmpswtexqp4\\assets\n"
     ]
    },
    {
     "name": "stdout",
     "output_type": "stream",
     "text": [
      "INFO:tensorflow:Assets written to: C:\\Users\\moham\\AppData\\Local\\Temp\\tmp51a4hu60\\assets\n"
     ]
    },
    {
     "name": "stderr",
     "output_type": "stream",
     "text": [
      "INFO:tensorflow:Assets written to: C:\\Users\\moham\\AppData\\Local\\Temp\\tmp51a4hu60\\assets\n"
     ]
    },
    {
     "name": "stdout",
     "output_type": "stream",
     "text": [
      "INFO:tensorflow:Assets written to: C:\\Users\\moham\\AppData\\Local\\Temp\\tmpxzspdmj8\\assets\n"
     ]
    },
    {
     "name": "stderr",
     "output_type": "stream",
     "text": [
      "INFO:tensorflow:Assets written to: C:\\Users\\moham\\AppData\\Local\\Temp\\tmpxzspdmj8\\assets\n"
     ]
    },
    {
     "name": "stdout",
     "output_type": "stream",
     "text": [
      "INFO:tensorflow:Assets written to: C:\\Users\\moham\\AppData\\Local\\Temp\\tmpqxpuudng\\assets\n"
     ]
    },
    {
     "name": "stderr",
     "output_type": "stream",
     "text": [
      "INFO:tensorflow:Assets written to: C:\\Users\\moham\\AppData\\Local\\Temp\\tmpqxpuudng\\assets\n"
     ]
    },
    {
     "name": "stdout",
     "output_type": "stream",
     "text": [
      "INFO:tensorflow:Assets written to: C:\\Users\\moham\\AppData\\Local\\Temp\\tmpj5eiod80\\assets\n"
     ]
    },
    {
     "name": "stderr",
     "output_type": "stream",
     "text": [
      "INFO:tensorflow:Assets written to: C:\\Users\\moham\\AppData\\Local\\Temp\\tmpj5eiod80\\assets\n"
     ]
    },
    {
     "name": "stdout",
     "output_type": "stream",
     "text": [
      "INFO:tensorflow:Assets written to: C:\\Users\\moham\\AppData\\Local\\Temp\\tmpc_fcd6oa\\assets\n"
     ]
    },
    {
     "name": "stderr",
     "output_type": "stream",
     "text": [
      "INFO:tensorflow:Assets written to: C:\\Users\\moham\\AppData\\Local\\Temp\\tmpc_fcd6oa\\assets\n"
     ]
    },
    {
     "name": "stdout",
     "output_type": "stream",
     "text": [
      "INFO:tensorflow:Assets written to: C:\\Users\\moham\\AppData\\Local\\Temp\\tmpmpbwlbzm\\assets\n"
     ]
    },
    {
     "name": "stderr",
     "output_type": "stream",
     "text": [
      "INFO:tensorflow:Assets written to: C:\\Users\\moham\\AppData\\Local\\Temp\\tmpmpbwlbzm\\assets\n"
     ]
    },
    {
     "name": "stdout",
     "output_type": "stream",
     "text": [
      "INFO:tensorflow:Assets written to: C:\\Users\\moham\\AppData\\Local\\Temp\\tmp7zkydo_y\\assets\n"
     ]
    },
    {
     "name": "stderr",
     "output_type": "stream",
     "text": [
      "INFO:tensorflow:Assets written to: C:\\Users\\moham\\AppData\\Local\\Temp\\tmp7zkydo_y\\assets\n"
     ]
    },
    {
     "name": "stdout",
     "output_type": "stream",
     "text": [
      "INFO:tensorflow:Assets written to: C:\\Users\\moham\\AppData\\Local\\Temp\\tmp4xy0mbeg\\assets\n"
     ]
    },
    {
     "name": "stderr",
     "output_type": "stream",
     "text": [
      "INFO:tensorflow:Assets written to: C:\\Users\\moham\\AppData\\Local\\Temp\\tmp4xy0mbeg\\assets\n"
     ]
    },
    {
     "name": "stdout",
     "output_type": "stream",
     "text": [
      "INFO:tensorflow:Assets written to: C:\\Users\\moham\\AppData\\Local\\Temp\\tmpyc5qnkbk\\assets\n"
     ]
    },
    {
     "name": "stderr",
     "output_type": "stream",
     "text": [
      "INFO:tensorflow:Assets written to: C:\\Users\\moham\\AppData\\Local\\Temp\\tmpyc5qnkbk\\assets\n"
     ]
    },
    {
     "name": "stdout",
     "output_type": "stream",
     "text": [
      "INFO:tensorflow:Assets written to: C:\\Users\\moham\\AppData\\Local\\Temp\\tmp4zj0gxdb\\assets\n"
     ]
    },
    {
     "name": "stderr",
     "output_type": "stream",
     "text": [
      "INFO:tensorflow:Assets written to: C:\\Users\\moham\\AppData\\Local\\Temp\\tmp4zj0gxdb\\assets\n"
     ]
    },
    {
     "name": "stdout",
     "output_type": "stream",
     "text": [
      "INFO:tensorflow:Assets written to: C:\\Users\\moham\\AppData\\Local\\Temp\\tmp3hqykof8\\assets\n"
     ]
    },
    {
     "name": "stderr",
     "output_type": "stream",
     "text": [
      "INFO:tensorflow:Assets written to: C:\\Users\\moham\\AppData\\Local\\Temp\\tmp3hqykof8\\assets\n"
     ]
    },
    {
     "name": "stdout",
     "output_type": "stream",
     "text": [
      "INFO:tensorflow:Assets written to: C:\\Users\\moham\\AppData\\Local\\Temp\\tmp3hhdeltb\\assets\n"
     ]
    },
    {
     "name": "stderr",
     "output_type": "stream",
     "text": [
      "INFO:tensorflow:Assets written to: C:\\Users\\moham\\AppData\\Local\\Temp\\tmp3hhdeltb\\assets\n"
     ]
    },
    {
     "name": "stdout",
     "output_type": "stream",
     "text": [
      "INFO:tensorflow:Assets written to: C:\\Users\\moham\\AppData\\Local\\Temp\\tmp1qfk6xun\\assets\n"
     ]
    },
    {
     "name": "stderr",
     "output_type": "stream",
     "text": [
      "INFO:tensorflow:Assets written to: C:\\Users\\moham\\AppData\\Local\\Temp\\tmp1qfk6xun\\assets\n"
     ]
    },
    {
     "name": "stdout",
     "output_type": "stream",
     "text": [
      "INFO:tensorflow:Assets written to: C:\\Users\\moham\\AppData\\Local\\Temp\\tmpbzf9_p2d\\assets\n"
     ]
    },
    {
     "name": "stderr",
     "output_type": "stream",
     "text": [
      "INFO:tensorflow:Assets written to: C:\\Users\\moham\\AppData\\Local\\Temp\\tmpbzf9_p2d\\assets\n"
     ]
    },
    {
     "name": "stdout",
     "output_type": "stream",
     "text": [
      "INFO:tensorflow:Assets written to: C:\\Users\\moham\\AppData\\Local\\Temp\\tmp71v8iqc3\\assets\n"
     ]
    },
    {
     "name": "stderr",
     "output_type": "stream",
     "text": [
      "INFO:tensorflow:Assets written to: C:\\Users\\moham\\AppData\\Local\\Temp\\tmp71v8iqc3\\assets\n"
     ]
    },
    {
     "name": "stdout",
     "output_type": "stream",
     "text": [
      "INFO:tensorflow:Assets written to: C:\\Users\\moham\\AppData\\Local\\Temp\\tmprjk54q_3\\assets\n"
     ]
    },
    {
     "name": "stderr",
     "output_type": "stream",
     "text": [
      "INFO:tensorflow:Assets written to: C:\\Users\\moham\\AppData\\Local\\Temp\\tmprjk54q_3\\assets\n"
     ]
    },
    {
     "name": "stdout",
     "output_type": "stream",
     "text": [
      "INFO:tensorflow:Assets written to: C:\\Users\\moham\\AppData\\Local\\Temp\\tmpq661it_2\\assets\n"
     ]
    },
    {
     "name": "stderr",
     "output_type": "stream",
     "text": [
      "INFO:tensorflow:Assets written to: C:\\Users\\moham\\AppData\\Local\\Temp\\tmpq661it_2\\assets\n"
     ]
    },
    {
     "name": "stdout",
     "output_type": "stream",
     "text": [
      "INFO:tensorflow:Assets written to: C:\\Users\\moham\\AppData\\Local\\Temp\\tmpvtw7lwao\\assets\n"
     ]
    },
    {
     "name": "stderr",
     "output_type": "stream",
     "text": [
      "INFO:tensorflow:Assets written to: C:\\Users\\moham\\AppData\\Local\\Temp\\tmpvtw7lwao\\assets\n"
     ]
    },
    {
     "name": "stdout",
     "output_type": "stream",
     "text": [
      "INFO:tensorflow:Assets written to: C:\\Users\\moham\\AppData\\Local\\Temp\\tmpy4uadk80\\assets\n"
     ]
    },
    {
     "name": "stderr",
     "output_type": "stream",
     "text": [
      "INFO:tensorflow:Assets written to: C:\\Users\\moham\\AppData\\Local\\Temp\\tmpy4uadk80\\assets\n"
     ]
    },
    {
     "name": "stdout",
     "output_type": "stream",
     "text": [
      "INFO:tensorflow:Assets written to: C:\\Users\\moham\\AppData\\Local\\Temp\\tmpc4bnwza7\\assets\n"
     ]
    },
    {
     "name": "stderr",
     "output_type": "stream",
     "text": [
      "INFO:tensorflow:Assets written to: C:\\Users\\moham\\AppData\\Local\\Temp\\tmpc4bnwza7\\assets\n"
     ]
    },
    {
     "name": "stdout",
     "output_type": "stream",
     "text": [
      "INFO:tensorflow:Assets written to: C:\\Users\\moham\\AppData\\Local\\Temp\\tmpcdn52p6e\\assets\n"
     ]
    },
    {
     "name": "stderr",
     "output_type": "stream",
     "text": [
      "INFO:tensorflow:Assets written to: C:\\Users\\moham\\AppData\\Local\\Temp\\tmpcdn52p6e\\assets\n"
     ]
    },
    {
     "name": "stdout",
     "output_type": "stream",
     "text": [
      "INFO:tensorflow:Assets written to: C:\\Users\\moham\\AppData\\Local\\Temp\\tmpgaowi6ov\\assets\n"
     ]
    },
    {
     "name": "stderr",
     "output_type": "stream",
     "text": [
      "INFO:tensorflow:Assets written to: C:\\Users\\moham\\AppData\\Local\\Temp\\tmpgaowi6ov\\assets\n"
     ]
    },
    {
     "name": "stdout",
     "output_type": "stream",
     "text": [
      "INFO:tensorflow:Assets written to: C:\\Users\\moham\\AppData\\Local\\Temp\\tmpmj5cjoqd\\assets\n"
     ]
    },
    {
     "name": "stderr",
     "output_type": "stream",
     "text": [
      "INFO:tensorflow:Assets written to: C:\\Users\\moham\\AppData\\Local\\Temp\\tmpmj5cjoqd\\assets\n"
     ]
    },
    {
     "name": "stdout",
     "output_type": "stream",
     "text": [
      "INFO:tensorflow:Assets written to: C:\\Users\\moham\\AppData\\Local\\Temp\\tmpojjde1iv\\assets\n"
     ]
    },
    {
     "name": "stderr",
     "output_type": "stream",
     "text": [
      "INFO:tensorflow:Assets written to: C:\\Users\\moham\\AppData\\Local\\Temp\\tmpojjde1iv\\assets\n"
     ]
    },
    {
     "name": "stdout",
     "output_type": "stream",
     "text": [
      "INFO:tensorflow:Assets written to: C:\\Users\\moham\\AppData\\Local\\Temp\\tmp716ihpmp\\assets\n"
     ]
    },
    {
     "name": "stderr",
     "output_type": "stream",
     "text": [
      "INFO:tensorflow:Assets written to: C:\\Users\\moham\\AppData\\Local\\Temp\\tmp716ihpmp\\assets\n"
     ]
    },
    {
     "name": "stdout",
     "output_type": "stream",
     "text": [
      "INFO:tensorflow:Assets written to: C:\\Users\\moham\\AppData\\Local\\Temp\\tmpb5d848y2\\assets\n"
     ]
    },
    {
     "name": "stderr",
     "output_type": "stream",
     "text": [
      "INFO:tensorflow:Assets written to: C:\\Users\\moham\\AppData\\Local\\Temp\\tmpb5d848y2\\assets\n"
     ]
    },
    {
     "name": "stdout",
     "output_type": "stream",
     "text": [
      "INFO:tensorflow:Assets written to: C:\\Users\\moham\\AppData\\Local\\Temp\\tmpyygcwaqp\\assets\n"
     ]
    },
    {
     "name": "stderr",
     "output_type": "stream",
     "text": [
      "INFO:tensorflow:Assets written to: C:\\Users\\moham\\AppData\\Local\\Temp\\tmpyygcwaqp\\assets\n"
     ]
    },
    {
     "name": "stdout",
     "output_type": "stream",
     "text": [
      "INFO:tensorflow:Assets written to: C:\\Users\\moham\\AppData\\Local\\Temp\\tmpercsut79\\assets\n"
     ]
    },
    {
     "name": "stderr",
     "output_type": "stream",
     "text": [
      "INFO:tensorflow:Assets written to: C:\\Users\\moham\\AppData\\Local\\Temp\\tmpercsut79\\assets\n"
     ]
    },
    {
     "name": "stdout",
     "output_type": "stream",
     "text": [
      "INFO:tensorflow:Assets written to: C:\\Users\\moham\\AppData\\Local\\Temp\\tmplfc1amh7\\assets\n"
     ]
    },
    {
     "name": "stderr",
     "output_type": "stream",
     "text": [
      "INFO:tensorflow:Assets written to: C:\\Users\\moham\\AppData\\Local\\Temp\\tmplfc1amh7\\assets\n"
     ]
    },
    {
     "name": "stdout",
     "output_type": "stream",
     "text": [
      "INFO:tensorflow:Assets written to: C:\\Users\\moham\\AppData\\Local\\Temp\\tmpupeizc9u\\assets\n"
     ]
    },
    {
     "name": "stderr",
     "output_type": "stream",
     "text": [
      "INFO:tensorflow:Assets written to: C:\\Users\\moham\\AppData\\Local\\Temp\\tmpupeizc9u\\assets\n"
     ]
    },
    {
     "name": "stdout",
     "output_type": "stream",
     "text": [
      "INFO:tensorflow:Assets written to: C:\\Users\\moham\\AppData\\Local\\Temp\\tmpjsvuy7dj\\assets\n"
     ]
    },
    {
     "name": "stderr",
     "output_type": "stream",
     "text": [
      "INFO:tensorflow:Assets written to: C:\\Users\\moham\\AppData\\Local\\Temp\\tmpjsvuy7dj\\assets\n"
     ]
    },
    {
     "name": "stdout",
     "output_type": "stream",
     "text": [
      "INFO:tensorflow:Assets written to: C:\\Users\\moham\\AppData\\Local\\Temp\\tmps9yt9xdw\\assets\n"
     ]
    },
    {
     "name": "stderr",
     "output_type": "stream",
     "text": [
      "INFO:tensorflow:Assets written to: C:\\Users\\moham\\AppData\\Local\\Temp\\tmps9yt9xdw\\assets\n"
     ]
    },
    {
     "name": "stdout",
     "output_type": "stream",
     "text": [
      "INFO:tensorflow:Assets written to: C:\\Users\\moham\\AppData\\Local\\Temp\\tmpvgjv6d3g\\assets\n"
     ]
    },
    {
     "name": "stderr",
     "output_type": "stream",
     "text": [
      "INFO:tensorflow:Assets written to: C:\\Users\\moham\\AppData\\Local\\Temp\\tmpvgjv6d3g\\assets\n"
     ]
    },
    {
     "name": "stdout",
     "output_type": "stream",
     "text": [
      "INFO:tensorflow:Assets written to: C:\\Users\\moham\\AppData\\Local\\Temp\\tmpyofsc_n0\\assets\n"
     ]
    },
    {
     "name": "stderr",
     "output_type": "stream",
     "text": [
      "INFO:tensorflow:Assets written to: C:\\Users\\moham\\AppData\\Local\\Temp\\tmpyofsc_n0\\assets\n"
     ]
    },
    {
     "name": "stdout",
     "output_type": "stream",
     "text": [
      "INFO:tensorflow:Assets written to: C:\\Users\\moham\\AppData\\Local\\Temp\\tmpc_gc_y7n\\assets\n"
     ]
    },
    {
     "name": "stderr",
     "output_type": "stream",
     "text": [
      "INFO:tensorflow:Assets written to: C:\\Users\\moham\\AppData\\Local\\Temp\\tmpc_gc_y7n\\assets\n"
     ]
    },
    {
     "name": "stdout",
     "output_type": "stream",
     "text": [
      "INFO:tensorflow:Assets written to: C:\\Users\\moham\\AppData\\Local\\Temp\\tmp10peqn7n\\assets\n"
     ]
    },
    {
     "name": "stderr",
     "output_type": "stream",
     "text": [
      "INFO:tensorflow:Assets written to: C:\\Users\\moham\\AppData\\Local\\Temp\\tmp10peqn7n\\assets\n"
     ]
    },
    {
     "name": "stdout",
     "output_type": "stream",
     "text": [
      "INFO:tensorflow:Assets written to: C:\\Users\\moham\\AppData\\Local\\Temp\\tmpft5h48vc\\assets\n"
     ]
    },
    {
     "name": "stderr",
     "output_type": "stream",
     "text": [
      "INFO:tensorflow:Assets written to: C:\\Users\\moham\\AppData\\Local\\Temp\\tmpft5h48vc\\assets\n"
     ]
    },
    {
     "name": "stdout",
     "output_type": "stream",
     "text": [
      "INFO:tensorflow:Assets written to: C:\\Users\\moham\\AppData\\Local\\Temp\\tmpyktf76_x\\assets\n"
     ]
    },
    {
     "name": "stderr",
     "output_type": "stream",
     "text": [
      "INFO:tensorflow:Assets written to: C:\\Users\\moham\\AppData\\Local\\Temp\\tmpyktf76_x\\assets\n"
     ]
    },
    {
     "name": "stdout",
     "output_type": "stream",
     "text": [
      "INFO:tensorflow:Assets written to: C:\\Users\\moham\\AppData\\Local\\Temp\\tmpdtiv0p_x\\assets\n"
     ]
    },
    {
     "name": "stderr",
     "output_type": "stream",
     "text": [
      "INFO:tensorflow:Assets written to: C:\\Users\\moham\\AppData\\Local\\Temp\\tmpdtiv0p_x\\assets\n"
     ]
    },
    {
     "name": "stdout",
     "output_type": "stream",
     "text": [
      "INFO:tensorflow:Assets written to: C:\\Users\\moham\\AppData\\Local\\Temp\\tmpigmbh4ja\\assets\n"
     ]
    },
    {
     "name": "stderr",
     "output_type": "stream",
     "text": [
      "INFO:tensorflow:Assets written to: C:\\Users\\moham\\AppData\\Local\\Temp\\tmpigmbh4ja\\assets\n"
     ]
    },
    {
     "name": "stdout",
     "output_type": "stream",
     "text": [
      "INFO:tensorflow:Assets written to: C:\\Users\\moham\\AppData\\Local\\Temp\\tmpmdxc3w1r\\assets\n"
     ]
    },
    {
     "name": "stderr",
     "output_type": "stream",
     "text": [
      "INFO:tensorflow:Assets written to: C:\\Users\\moham\\AppData\\Local\\Temp\\tmpmdxc3w1r\\assets\n"
     ]
    },
    {
     "name": "stdout",
     "output_type": "stream",
     "text": [
      "INFO:tensorflow:Assets written to: C:\\Users\\moham\\AppData\\Local\\Temp\\tmpbmu1puse\\assets\n"
     ]
    },
    {
     "name": "stderr",
     "output_type": "stream",
     "text": [
      "INFO:tensorflow:Assets written to: C:\\Users\\moham\\AppData\\Local\\Temp\\tmpbmu1puse\\assets\n"
     ]
    },
    {
     "name": "stdout",
     "output_type": "stream",
     "text": [
      "INFO:tensorflow:Assets written to: C:\\Users\\moham\\AppData\\Local\\Temp\\tmp2wcq3sbn\\assets\n"
     ]
    },
    {
     "name": "stderr",
     "output_type": "stream",
     "text": [
      "INFO:tensorflow:Assets written to: C:\\Users\\moham\\AppData\\Local\\Temp\\tmp2wcq3sbn\\assets\n"
     ]
    },
    {
     "name": "stdout",
     "output_type": "stream",
     "text": [
      "INFO:tensorflow:Assets written to: C:\\Users\\moham\\AppData\\Local\\Temp\\tmpnm6u94i2\\assets\n"
     ]
    },
    {
     "name": "stderr",
     "output_type": "stream",
     "text": [
      "INFO:tensorflow:Assets written to: C:\\Users\\moham\\AppData\\Local\\Temp\\tmpnm6u94i2\\assets\n"
     ]
    },
    {
     "name": "stdout",
     "output_type": "stream",
     "text": [
      "INFO:tensorflow:Assets written to: C:\\Users\\moham\\AppData\\Local\\Temp\\tmpauykw2bw\\assets\n"
     ]
    },
    {
     "name": "stderr",
     "output_type": "stream",
     "text": [
      "INFO:tensorflow:Assets written to: C:\\Users\\moham\\AppData\\Local\\Temp\\tmpauykw2bw\\assets\n"
     ]
    },
    {
     "name": "stdout",
     "output_type": "stream",
     "text": [
      "INFO:tensorflow:Assets written to: C:\\Users\\moham\\AppData\\Local\\Temp\\tmpno_8due5\\assets\n"
     ]
    },
    {
     "name": "stderr",
     "output_type": "stream",
     "text": [
      "INFO:tensorflow:Assets written to: C:\\Users\\moham\\AppData\\Local\\Temp\\tmpno_8due5\\assets\n"
     ]
    },
    {
     "name": "stdout",
     "output_type": "stream",
     "text": [
      "INFO:tensorflow:Assets written to: C:\\Users\\moham\\AppData\\Local\\Temp\\tmp6wv7vw6r\\assets\n"
     ]
    },
    {
     "name": "stderr",
     "output_type": "stream",
     "text": [
      "INFO:tensorflow:Assets written to: C:\\Users\\moham\\AppData\\Local\\Temp\\tmp6wv7vw6r\\assets\n"
     ]
    },
    {
     "name": "stdout",
     "output_type": "stream",
     "text": [
      "INFO:tensorflow:Assets written to: C:\\Users\\moham\\AppData\\Local\\Temp\\tmpgqlm944j\\assets\n"
     ]
    },
    {
     "name": "stderr",
     "output_type": "stream",
     "text": [
      "INFO:tensorflow:Assets written to: C:\\Users\\moham\\AppData\\Local\\Temp\\tmpgqlm944j\\assets\n"
     ]
    },
    {
     "name": "stdout",
     "output_type": "stream",
     "text": [
      "INFO:tensorflow:Assets written to: C:\\Users\\moham\\AppData\\Local\\Temp\\tmpmpy3mofu\\assets\n"
     ]
    },
    {
     "name": "stderr",
     "output_type": "stream",
     "text": [
      "INFO:tensorflow:Assets written to: C:\\Users\\moham\\AppData\\Local\\Temp\\tmpmpy3mofu\\assets\n"
     ]
    },
    {
     "name": "stdout",
     "output_type": "stream",
     "text": [
      "INFO:tensorflow:Assets written to: C:\\Users\\moham\\AppData\\Local\\Temp\\tmpkveofbm9\\assets\n"
     ]
    },
    {
     "name": "stderr",
     "output_type": "stream",
     "text": [
      "INFO:tensorflow:Assets written to: C:\\Users\\moham\\AppData\\Local\\Temp\\tmpkveofbm9\\assets\n"
     ]
    },
    {
     "name": "stdout",
     "output_type": "stream",
     "text": [
      "INFO:tensorflow:Assets written to: C:\\Users\\moham\\AppData\\Local\\Temp\\tmputmh6m5f\\assets\n"
     ]
    },
    {
     "name": "stderr",
     "output_type": "stream",
     "text": [
      "INFO:tensorflow:Assets written to: C:\\Users\\moham\\AppData\\Local\\Temp\\tmputmh6m5f\\assets\n"
     ]
    },
    {
     "name": "stdout",
     "output_type": "stream",
     "text": [
      "INFO:tensorflow:Assets written to: C:\\Users\\moham\\AppData\\Local\\Temp\\tmpsx09op3i\\assets\n"
     ]
    },
    {
     "name": "stderr",
     "output_type": "stream",
     "text": [
      "INFO:tensorflow:Assets written to: C:\\Users\\moham\\AppData\\Local\\Temp\\tmpsx09op3i\\assets\n"
     ]
    },
    {
     "name": "stdout",
     "output_type": "stream",
     "text": [
      "INFO:tensorflow:Assets written to: C:\\Users\\moham\\AppData\\Local\\Temp\\tmphsegi0mq\\assets\n"
     ]
    },
    {
     "name": "stderr",
     "output_type": "stream",
     "text": [
      "INFO:tensorflow:Assets written to: C:\\Users\\moham\\AppData\\Local\\Temp\\tmphsegi0mq\\assets\n"
     ]
    },
    {
     "name": "stdout",
     "output_type": "stream",
     "text": [
      "INFO:tensorflow:Assets written to: C:\\Users\\moham\\AppData\\Local\\Temp\\tmprmxatlxv\\assets\n"
     ]
    },
    {
     "name": "stderr",
     "output_type": "stream",
     "text": [
      "INFO:tensorflow:Assets written to: C:\\Users\\moham\\AppData\\Local\\Temp\\tmprmxatlxv\\assets\n"
     ]
    },
    {
     "name": "stdout",
     "output_type": "stream",
     "text": [
      "INFO:tensorflow:Assets written to: C:\\Users\\moham\\AppData\\Local\\Temp\\tmp9x1e8z3p\\assets\n"
     ]
    },
    {
     "name": "stderr",
     "output_type": "stream",
     "text": [
      "INFO:tensorflow:Assets written to: C:\\Users\\moham\\AppData\\Local\\Temp\\tmp9x1e8z3p\\assets\n"
     ]
    },
    {
     "name": "stdout",
     "output_type": "stream",
     "text": [
      "INFO:tensorflow:Assets written to: C:\\Users\\moham\\AppData\\Local\\Temp\\tmp49gg6n5y\\assets\n"
     ]
    },
    {
     "name": "stderr",
     "output_type": "stream",
     "text": [
      "INFO:tensorflow:Assets written to: C:\\Users\\moham\\AppData\\Local\\Temp\\tmp49gg6n5y\\assets\n"
     ]
    },
    {
     "name": "stdout",
     "output_type": "stream",
     "text": [
      "INFO:tensorflow:Assets written to: C:\\Users\\moham\\AppData\\Local\\Temp\\tmpep7nu7ab\\assets\n"
     ]
    },
    {
     "name": "stderr",
     "output_type": "stream",
     "text": [
      "INFO:tensorflow:Assets written to: C:\\Users\\moham\\AppData\\Local\\Temp\\tmpep7nu7ab\\assets\n"
     ]
    },
    {
     "name": "stdout",
     "output_type": "stream",
     "text": [
      "INFO:tensorflow:Assets written to: C:\\Users\\moham\\AppData\\Local\\Temp\\tmpn2hiu2cp\\assets\n"
     ]
    },
    {
     "name": "stderr",
     "output_type": "stream",
     "text": [
      "INFO:tensorflow:Assets written to: C:\\Users\\moham\\AppData\\Local\\Temp\\tmpn2hiu2cp\\assets\n"
     ]
    },
    {
     "name": "stdout",
     "output_type": "stream",
     "text": [
      "INFO:tensorflow:Assets written to: C:\\Users\\moham\\AppData\\Local\\Temp\\tmpf0_dnp1b\\assets\n"
     ]
    },
    {
     "name": "stderr",
     "output_type": "stream",
     "text": [
      "INFO:tensorflow:Assets written to: C:\\Users\\moham\\AppData\\Local\\Temp\\tmpf0_dnp1b\\assets\n"
     ]
    },
    {
     "name": "stdout",
     "output_type": "stream",
     "text": [
      "INFO:tensorflow:Assets written to: C:\\Users\\moham\\AppData\\Local\\Temp\\tmprdt0sfwo\\assets\n"
     ]
    },
    {
     "name": "stderr",
     "output_type": "stream",
     "text": [
      "INFO:tensorflow:Assets written to: C:\\Users\\moham\\AppData\\Local\\Temp\\tmprdt0sfwo\\assets\n"
     ]
    },
    {
     "name": "stdout",
     "output_type": "stream",
     "text": [
      "INFO:tensorflow:Assets written to: C:\\Users\\moham\\AppData\\Local\\Temp\\tmpsvozs50q\\assets\n"
     ]
    },
    {
     "name": "stderr",
     "output_type": "stream",
     "text": [
      "INFO:tensorflow:Assets written to: C:\\Users\\moham\\AppData\\Local\\Temp\\tmpsvozs50q\\assets\n"
     ]
    },
    {
     "name": "stdout",
     "output_type": "stream",
     "text": [
      "INFO:tensorflow:Assets written to: C:\\Users\\moham\\AppData\\Local\\Temp\\tmp4airgxim\\assets\n"
     ]
    },
    {
     "name": "stderr",
     "output_type": "stream",
     "text": [
      "INFO:tensorflow:Assets written to: C:\\Users\\moham\\AppData\\Local\\Temp\\tmp4airgxim\\assets\n"
     ]
    },
    {
     "name": "stdout",
     "output_type": "stream",
     "text": [
      "INFO:tensorflow:Assets written to: C:\\Users\\moham\\AppData\\Local\\Temp\\tmpaqd8o7v0\\assets\n"
     ]
    },
    {
     "name": "stderr",
     "output_type": "stream",
     "text": [
      "INFO:tensorflow:Assets written to: C:\\Users\\moham\\AppData\\Local\\Temp\\tmpaqd8o7v0\\assets\n"
     ]
    },
    {
     "name": "stdout",
     "output_type": "stream",
     "text": [
      "INFO:tensorflow:Assets written to: C:\\Users\\moham\\AppData\\Local\\Temp\\tmprn_ig6bv\\assets\n"
     ]
    },
    {
     "name": "stderr",
     "output_type": "stream",
     "text": [
      "INFO:tensorflow:Assets written to: C:\\Users\\moham\\AppData\\Local\\Temp\\tmprn_ig6bv\\assets\n"
     ]
    },
    {
     "name": "stdout",
     "output_type": "stream",
     "text": [
      "INFO:tensorflow:Assets written to: C:\\Users\\moham\\AppData\\Local\\Temp\\tmpjsku3h9y\\assets\n"
     ]
    },
    {
     "name": "stderr",
     "output_type": "stream",
     "text": [
      "INFO:tensorflow:Assets written to: C:\\Users\\moham\\AppData\\Local\\Temp\\tmpjsku3h9y\\assets\n"
     ]
    },
    {
     "name": "stdout",
     "output_type": "stream",
     "text": [
      "INFO:tensorflow:Assets written to: C:\\Users\\moham\\AppData\\Local\\Temp\\tmpnjfxtagn\\assets\n"
     ]
    },
    {
     "name": "stderr",
     "output_type": "stream",
     "text": [
      "INFO:tensorflow:Assets written to: C:\\Users\\moham\\AppData\\Local\\Temp\\tmpnjfxtagn\\assets\n"
     ]
    },
    {
     "name": "stdout",
     "output_type": "stream",
     "text": [
      "INFO:tensorflow:Assets written to: C:\\Users\\moham\\AppData\\Local\\Temp\\tmptdyq8hzi\\assets\n"
     ]
    },
    {
     "name": "stderr",
     "output_type": "stream",
     "text": [
      "INFO:tensorflow:Assets written to: C:\\Users\\moham\\AppData\\Local\\Temp\\tmptdyq8hzi\\assets\n"
     ]
    },
    {
     "name": "stdout",
     "output_type": "stream",
     "text": [
      "INFO:tensorflow:Assets written to: C:\\Users\\moham\\AppData\\Local\\Temp\\tmpu7f4m5pb\\assets\n"
     ]
    },
    {
     "name": "stderr",
     "output_type": "stream",
     "text": [
      "INFO:tensorflow:Assets written to: C:\\Users\\moham\\AppData\\Local\\Temp\\tmpu7f4m5pb\\assets\n"
     ]
    },
    {
     "name": "stdout",
     "output_type": "stream",
     "text": [
      "INFO:tensorflow:Assets written to: C:\\Users\\moham\\AppData\\Local\\Temp\\tmpeff6uihb\\assets\n"
     ]
    },
    {
     "name": "stderr",
     "output_type": "stream",
     "text": [
      "INFO:tensorflow:Assets written to: C:\\Users\\moham\\AppData\\Local\\Temp\\tmpeff6uihb\\assets\n"
     ]
    },
    {
     "name": "stdout",
     "output_type": "stream",
     "text": [
      "INFO:tensorflow:Assets written to: C:\\Users\\moham\\AppData\\Local\\Temp\\tmp1vfhdurj\\assets\n"
     ]
    },
    {
     "name": "stderr",
     "output_type": "stream",
     "text": [
      "INFO:tensorflow:Assets written to: C:\\Users\\moham\\AppData\\Local\\Temp\\tmp1vfhdurj\\assets\n"
     ]
    },
    {
     "name": "stdout",
     "output_type": "stream",
     "text": [
      "INFO:tensorflow:Assets written to: C:\\Users\\moham\\AppData\\Local\\Temp\\tmpzywkjitc\\assets\n"
     ]
    },
    {
     "name": "stderr",
     "output_type": "stream",
     "text": [
      "INFO:tensorflow:Assets written to: C:\\Users\\moham\\AppData\\Local\\Temp\\tmpzywkjitc\\assets\n"
     ]
    },
    {
     "name": "stdout",
     "output_type": "stream",
     "text": [
      "INFO:tensorflow:Assets written to: C:\\Users\\moham\\AppData\\Local\\Temp\\tmpn91ka4b0\\assets\n"
     ]
    },
    {
     "name": "stderr",
     "output_type": "stream",
     "text": [
      "INFO:tensorflow:Assets written to: C:\\Users\\moham\\AppData\\Local\\Temp\\tmpn91ka4b0\\assets\n"
     ]
    },
    {
     "name": "stdout",
     "output_type": "stream",
     "text": [
      "INFO:tensorflow:Assets written to: C:\\Users\\moham\\AppData\\Local\\Temp\\tmpbfugzsb0\\assets\n"
     ]
    },
    {
     "name": "stderr",
     "output_type": "stream",
     "text": [
      "INFO:tensorflow:Assets written to: C:\\Users\\moham\\AppData\\Local\\Temp\\tmpbfugzsb0\\assets\n"
     ]
    },
    {
     "name": "stdout",
     "output_type": "stream",
     "text": [
      "INFO:tensorflow:Assets written to: C:\\Users\\moham\\AppData\\Local\\Temp\\tmptecgmiad\\assets\n"
     ]
    },
    {
     "name": "stderr",
     "output_type": "stream",
     "text": [
      "INFO:tensorflow:Assets written to: C:\\Users\\moham\\AppData\\Local\\Temp\\tmptecgmiad\\assets\n"
     ]
    },
    {
     "name": "stdout",
     "output_type": "stream",
     "text": [
      "INFO:tensorflow:Assets written to: C:\\Users\\moham\\AppData\\Local\\Temp\\tmpukqa_dcj\\assets\n"
     ]
    },
    {
     "name": "stderr",
     "output_type": "stream",
     "text": [
      "INFO:tensorflow:Assets written to: C:\\Users\\moham\\AppData\\Local\\Temp\\tmpukqa_dcj\\assets\n"
     ]
    },
    {
     "name": "stdout",
     "output_type": "stream",
     "text": [
      "INFO:tensorflow:Assets written to: C:\\Users\\moham\\AppData\\Local\\Temp\\tmp7_rdm7ur\\assets\n"
     ]
    },
    {
     "name": "stderr",
     "output_type": "stream",
     "text": [
      "INFO:tensorflow:Assets written to: C:\\Users\\moham\\AppData\\Local\\Temp\\tmp7_rdm7ur\\assets\n"
     ]
    },
    {
     "name": "stdout",
     "output_type": "stream",
     "text": [
      "INFO:tensorflow:Assets written to: C:\\Users\\moham\\AppData\\Local\\Temp\\tmplh_urmw7\\assets\n"
     ]
    },
    {
     "name": "stderr",
     "output_type": "stream",
     "text": [
      "INFO:tensorflow:Assets written to: C:\\Users\\moham\\AppData\\Local\\Temp\\tmplh_urmw7\\assets\n"
     ]
    },
    {
     "name": "stdout",
     "output_type": "stream",
     "text": [
      "INFO:tensorflow:Assets written to: C:\\Users\\moham\\AppData\\Local\\Temp\\tmp0ziw1cab\\assets\n"
     ]
    },
    {
     "name": "stderr",
     "output_type": "stream",
     "text": [
      "INFO:tensorflow:Assets written to: C:\\Users\\moham\\AppData\\Local\\Temp\\tmp0ziw1cab\\assets\n"
     ]
    },
    {
     "name": "stdout",
     "output_type": "stream",
     "text": [
      "INFO:tensorflow:Assets written to: C:\\Users\\moham\\AppData\\Local\\Temp\\tmpawxfr04n\\assets\n"
     ]
    },
    {
     "name": "stderr",
     "output_type": "stream",
     "text": [
      "INFO:tensorflow:Assets written to: C:\\Users\\moham\\AppData\\Local\\Temp\\tmpawxfr04n\\assets\n"
     ]
    },
    {
     "name": "stdout",
     "output_type": "stream",
     "text": [
      "INFO:tensorflow:Assets written to: C:\\Users\\moham\\AppData\\Local\\Temp\\tmpmb6x0hat\\assets\n"
     ]
    },
    {
     "name": "stderr",
     "output_type": "stream",
     "text": [
      "INFO:tensorflow:Assets written to: C:\\Users\\moham\\AppData\\Local\\Temp\\tmpmb6x0hat\\assets\n"
     ]
    },
    {
     "name": "stdout",
     "output_type": "stream",
     "text": [
      "INFO:tensorflow:Assets written to: C:\\Users\\moham\\AppData\\Local\\Temp\\tmpamovct32\\assets\n"
     ]
    },
    {
     "name": "stderr",
     "output_type": "stream",
     "text": [
      "INFO:tensorflow:Assets written to: C:\\Users\\moham\\AppData\\Local\\Temp\\tmpamovct32\\assets\n"
     ]
    },
    {
     "name": "stdout",
     "output_type": "stream",
     "text": [
      "INFO:tensorflow:Assets written to: C:\\Users\\moham\\AppData\\Local\\Temp\\tmpreat79oy\\assets\n"
     ]
    },
    {
     "name": "stderr",
     "output_type": "stream",
     "text": [
      "INFO:tensorflow:Assets written to: C:\\Users\\moham\\AppData\\Local\\Temp\\tmpreat79oy\\assets\n"
     ]
    },
    {
     "name": "stdout",
     "output_type": "stream",
     "text": [
      "INFO:tensorflow:Assets written to: C:\\Users\\moham\\AppData\\Local\\Temp\\tmpjoiu0ce2\\assets\n"
     ]
    },
    {
     "name": "stderr",
     "output_type": "stream",
     "text": [
      "INFO:tensorflow:Assets written to: C:\\Users\\moham\\AppData\\Local\\Temp\\tmpjoiu0ce2\\assets\n"
     ]
    },
    {
     "name": "stdout",
     "output_type": "stream",
     "text": [
      "INFO:tensorflow:Assets written to: C:\\Users\\moham\\AppData\\Local\\Temp\\tmpngt03cku\\assets\n"
     ]
    },
    {
     "name": "stderr",
     "output_type": "stream",
     "text": [
      "INFO:tensorflow:Assets written to: C:\\Users\\moham\\AppData\\Local\\Temp\\tmpngt03cku\\assets\n"
     ]
    },
    {
     "name": "stdout",
     "output_type": "stream",
     "text": [
      "INFO:tensorflow:Assets written to: C:\\Users\\moham\\AppData\\Local\\Temp\\tmpkkt_40p9\\assets\n"
     ]
    },
    {
     "name": "stderr",
     "output_type": "stream",
     "text": [
      "INFO:tensorflow:Assets written to: C:\\Users\\moham\\AppData\\Local\\Temp\\tmpkkt_40p9\\assets\n"
     ]
    },
    {
     "name": "stdout",
     "output_type": "stream",
     "text": [
      "INFO:tensorflow:Assets written to: C:\\Users\\moham\\AppData\\Local\\Temp\\tmp2x8jilud\\assets\n"
     ]
    },
    {
     "name": "stderr",
     "output_type": "stream",
     "text": [
      "INFO:tensorflow:Assets written to: C:\\Users\\moham\\AppData\\Local\\Temp\\tmp2x8jilud\\assets\n"
     ]
    },
    {
     "name": "stdout",
     "output_type": "stream",
     "text": [
      "INFO:tensorflow:Assets written to: C:\\Users\\moham\\AppData\\Local\\Temp\\tmpdsws1ioi\\assets\n"
     ]
    },
    {
     "name": "stderr",
     "output_type": "stream",
     "text": [
      "INFO:tensorflow:Assets written to: C:\\Users\\moham\\AppData\\Local\\Temp\\tmpdsws1ioi\\assets\n"
     ]
    },
    {
     "name": "stdout",
     "output_type": "stream",
     "text": [
      "INFO:tensorflow:Assets written to: C:\\Users\\moham\\AppData\\Local\\Temp\\tmps9gmar4d\\assets\n"
     ]
    },
    {
     "name": "stderr",
     "output_type": "stream",
     "text": [
      "INFO:tensorflow:Assets written to: C:\\Users\\moham\\AppData\\Local\\Temp\\tmps9gmar4d\\assets\n"
     ]
    },
    {
     "name": "stdout",
     "output_type": "stream",
     "text": [
      "INFO:tensorflow:Assets written to: C:\\Users\\moham\\AppData\\Local\\Temp\\tmpvt_uz4nr\\assets\n"
     ]
    },
    {
     "name": "stderr",
     "output_type": "stream",
     "text": [
      "INFO:tensorflow:Assets written to: C:\\Users\\moham\\AppData\\Local\\Temp\\tmpvt_uz4nr\\assets\n"
     ]
    },
    {
     "name": "stdout",
     "output_type": "stream",
     "text": [
      "INFO:tensorflow:Assets written to: C:\\Users\\moham\\AppData\\Local\\Temp\\tmpsngjeqsb\\assets\n"
     ]
    },
    {
     "name": "stderr",
     "output_type": "stream",
     "text": [
      "INFO:tensorflow:Assets written to: C:\\Users\\moham\\AppData\\Local\\Temp\\tmpsngjeqsb\\assets\n"
     ]
    },
    {
     "name": "stdout",
     "output_type": "stream",
     "text": [
      "INFO:tensorflow:Assets written to: C:\\Users\\moham\\AppData\\Local\\Temp\\tmpas9c7dh5\\assets\n"
     ]
    },
    {
     "name": "stderr",
     "output_type": "stream",
     "text": [
      "INFO:tensorflow:Assets written to: C:\\Users\\moham\\AppData\\Local\\Temp\\tmpas9c7dh5\\assets\n"
     ]
    },
    {
     "name": "stdout",
     "output_type": "stream",
     "text": [
      "INFO:tensorflow:Assets written to: C:\\Users\\moham\\AppData\\Local\\Temp\\tmp26htl1x9\\assets\n"
     ]
    },
    {
     "name": "stderr",
     "output_type": "stream",
     "text": [
      "INFO:tensorflow:Assets written to: C:\\Users\\moham\\AppData\\Local\\Temp\\tmp26htl1x9\\assets\n"
     ]
    },
    {
     "name": "stdout",
     "output_type": "stream",
     "text": [
      "INFO:tensorflow:Assets written to: C:\\Users\\moham\\AppData\\Local\\Temp\\tmpclf75qdt\\assets\n"
     ]
    },
    {
     "name": "stderr",
     "output_type": "stream",
     "text": [
      "INFO:tensorflow:Assets written to: C:\\Users\\moham\\AppData\\Local\\Temp\\tmpclf75qdt\\assets\n"
     ]
    },
    {
     "name": "stdout",
     "output_type": "stream",
     "text": [
      "INFO:tensorflow:Assets written to: C:\\Users\\moham\\AppData\\Local\\Temp\\tmpf7l8sttl\\assets\n"
     ]
    },
    {
     "name": "stderr",
     "output_type": "stream",
     "text": [
      "INFO:tensorflow:Assets written to: C:\\Users\\moham\\AppData\\Local\\Temp\\tmpf7l8sttl\\assets\n"
     ]
    },
    {
     "name": "stdout",
     "output_type": "stream",
     "text": [
      "INFO:tensorflow:Assets written to: C:\\Users\\moham\\AppData\\Local\\Temp\\tmp3l2wy50p\\assets\n"
     ]
    },
    {
     "name": "stderr",
     "output_type": "stream",
     "text": [
      "INFO:tensorflow:Assets written to: C:\\Users\\moham\\AppData\\Local\\Temp\\tmp3l2wy50p\\assets\n"
     ]
    },
    {
     "name": "stdout",
     "output_type": "stream",
     "text": [
      "INFO:tensorflow:Assets written to: C:\\Users\\moham\\AppData\\Local\\Temp\\tmpx1kyxrkm\\assets\n"
     ]
    },
    {
     "name": "stderr",
     "output_type": "stream",
     "text": [
      "INFO:tensorflow:Assets written to: C:\\Users\\moham\\AppData\\Local\\Temp\\tmpx1kyxrkm\\assets\n"
     ]
    },
    {
     "name": "stdout",
     "output_type": "stream",
     "text": [
      "INFO:tensorflow:Assets written to: C:\\Users\\moham\\AppData\\Local\\Temp\\tmpx9hdbsj3\\assets\n"
     ]
    },
    {
     "name": "stderr",
     "output_type": "stream",
     "text": [
      "INFO:tensorflow:Assets written to: C:\\Users\\moham\\AppData\\Local\\Temp\\tmpx9hdbsj3\\assets\n"
     ]
    },
    {
     "name": "stdout",
     "output_type": "stream",
     "text": [
      "INFO:tensorflow:Assets written to: C:\\Users\\moham\\AppData\\Local\\Temp\\tmptd0o_1t3\\assets\n"
     ]
    },
    {
     "name": "stderr",
     "output_type": "stream",
     "text": [
      "INFO:tensorflow:Assets written to: C:\\Users\\moham\\AppData\\Local\\Temp\\tmptd0o_1t3\\assets\n"
     ]
    },
    {
     "name": "stdout",
     "output_type": "stream",
     "text": [
      "INFO:tensorflow:Assets written to: C:\\Users\\moham\\AppData\\Local\\Temp\\tmp53ec9bcl\\assets\n"
     ]
    },
    {
     "name": "stderr",
     "output_type": "stream",
     "text": [
      "INFO:tensorflow:Assets written to: C:\\Users\\moham\\AppData\\Local\\Temp\\tmp53ec9bcl\\assets\n"
     ]
    },
    {
     "name": "stdout",
     "output_type": "stream",
     "text": [
      "INFO:tensorflow:Assets written to: C:\\Users\\moham\\AppData\\Local\\Temp\\tmpsk62wjpx\\assets\n"
     ]
    },
    {
     "name": "stderr",
     "output_type": "stream",
     "text": [
      "INFO:tensorflow:Assets written to: C:\\Users\\moham\\AppData\\Local\\Temp\\tmpsk62wjpx\\assets\n"
     ]
    },
    {
     "name": "stdout",
     "output_type": "stream",
     "text": [
      "INFO:tensorflow:Assets written to: C:\\Users\\moham\\AppData\\Local\\Temp\\tmp9fn9k9k8\\assets\n"
     ]
    },
    {
     "name": "stderr",
     "output_type": "stream",
     "text": [
      "INFO:tensorflow:Assets written to: C:\\Users\\moham\\AppData\\Local\\Temp\\tmp9fn9k9k8\\assets\n"
     ]
    },
    {
     "name": "stdout",
     "output_type": "stream",
     "text": [
      "INFO:tensorflow:Assets written to: C:\\Users\\moham\\AppData\\Local\\Temp\\tmpdcyzbo7m\\assets\n"
     ]
    },
    {
     "name": "stderr",
     "output_type": "stream",
     "text": [
      "INFO:tensorflow:Assets written to: C:\\Users\\moham\\AppData\\Local\\Temp\\tmpdcyzbo7m\\assets\n"
     ]
    },
    {
     "name": "stdout",
     "output_type": "stream",
     "text": [
      "INFO:tensorflow:Assets written to: C:\\Users\\moham\\AppData\\Local\\Temp\\tmpzejvg14g\\assets\n"
     ]
    },
    {
     "name": "stderr",
     "output_type": "stream",
     "text": [
      "INFO:tensorflow:Assets written to: C:\\Users\\moham\\AppData\\Local\\Temp\\tmpzejvg14g\\assets\n"
     ]
    },
    {
     "name": "stdout",
     "output_type": "stream",
     "text": [
      "INFO:tensorflow:Assets written to: C:\\Users\\moham\\AppData\\Local\\Temp\\tmph46zm971\\assets\n"
     ]
    },
    {
     "name": "stderr",
     "output_type": "stream",
     "text": [
      "INFO:tensorflow:Assets written to: C:\\Users\\moham\\AppData\\Local\\Temp\\tmph46zm971\\assets\n"
     ]
    },
    {
     "name": "stdout",
     "output_type": "stream",
     "text": [
      "INFO:tensorflow:Assets written to: C:\\Users\\moham\\AppData\\Local\\Temp\\tmp35nndp_n\\assets\n"
     ]
    },
    {
     "name": "stderr",
     "output_type": "stream",
     "text": [
      "INFO:tensorflow:Assets written to: C:\\Users\\moham\\AppData\\Local\\Temp\\tmp35nndp_n\\assets\n"
     ]
    },
    {
     "name": "stdout",
     "output_type": "stream",
     "text": [
      "INFO:tensorflow:Assets written to: C:\\Users\\moham\\AppData\\Local\\Temp\\tmpqunoqb42\\assets\n"
     ]
    },
    {
     "name": "stderr",
     "output_type": "stream",
     "text": [
      "INFO:tensorflow:Assets written to: C:\\Users\\moham\\AppData\\Local\\Temp\\tmpqunoqb42\\assets\n"
     ]
    },
    {
     "name": "stdout",
     "output_type": "stream",
     "text": [
      "INFO:tensorflow:Assets written to: C:\\Users\\moham\\AppData\\Local\\Temp\\tmpsq_u0qio\\assets\n"
     ]
    },
    {
     "name": "stderr",
     "output_type": "stream",
     "text": [
      "INFO:tensorflow:Assets written to: C:\\Users\\moham\\AppData\\Local\\Temp\\tmpsq_u0qio\\assets\n"
     ]
    },
    {
     "name": "stdout",
     "output_type": "stream",
     "text": [
      "INFO:tensorflow:Assets written to: C:\\Users\\moham\\AppData\\Local\\Temp\\tmpbtgzj2vk\\assets\n"
     ]
    },
    {
     "name": "stderr",
     "output_type": "stream",
     "text": [
      "INFO:tensorflow:Assets written to: C:\\Users\\moham\\AppData\\Local\\Temp\\tmpbtgzj2vk\\assets\n"
     ]
    },
    {
     "name": "stdout",
     "output_type": "stream",
     "text": [
      "INFO:tensorflow:Assets written to: C:\\Users\\moham\\AppData\\Local\\Temp\\tmp29_vallm\\assets\n"
     ]
    },
    {
     "name": "stderr",
     "output_type": "stream",
     "text": [
      "INFO:tensorflow:Assets written to: C:\\Users\\moham\\AppData\\Local\\Temp\\tmp29_vallm\\assets\n"
     ]
    },
    {
     "name": "stdout",
     "output_type": "stream",
     "text": [
      "INFO:tensorflow:Assets written to: C:\\Users\\moham\\AppData\\Local\\Temp\\tmp9v4kg_si\\assets\n"
     ]
    },
    {
     "name": "stderr",
     "output_type": "stream",
     "text": [
      "INFO:tensorflow:Assets written to: C:\\Users\\moham\\AppData\\Local\\Temp\\tmp9v4kg_si\\assets\n"
     ]
    },
    {
     "name": "stdout",
     "output_type": "stream",
     "text": [
      "INFO:tensorflow:Assets written to: C:\\Users\\moham\\AppData\\Local\\Temp\\tmpdpazpqvl\\assets\n"
     ]
    },
    {
     "name": "stderr",
     "output_type": "stream",
     "text": [
      "INFO:tensorflow:Assets written to: C:\\Users\\moham\\AppData\\Local\\Temp\\tmpdpazpqvl\\assets\n"
     ]
    },
    {
     "name": "stdout",
     "output_type": "stream",
     "text": [
      "INFO:tensorflow:Assets written to: C:\\Users\\moham\\AppData\\Local\\Temp\\tmpu4a3l6lo\\assets\n"
     ]
    },
    {
     "name": "stderr",
     "output_type": "stream",
     "text": [
      "INFO:tensorflow:Assets written to: C:\\Users\\moham\\AppData\\Local\\Temp\\tmpu4a3l6lo\\assets\n"
     ]
    },
    {
     "name": "stdout",
     "output_type": "stream",
     "text": [
      "INFO:tensorflow:Assets written to: C:\\Users\\moham\\AppData\\Local\\Temp\\tmpb53fcqob\\assets\n"
     ]
    },
    {
     "name": "stderr",
     "output_type": "stream",
     "text": [
      "INFO:tensorflow:Assets written to: C:\\Users\\moham\\AppData\\Local\\Temp\\tmpb53fcqob\\assets\n"
     ]
    },
    {
     "name": "stdout",
     "output_type": "stream",
     "text": [
      "INFO:tensorflow:Assets written to: C:\\Users\\moham\\AppData\\Local\\Temp\\tmp1trzyjjb\\assets\n"
     ]
    },
    {
     "name": "stderr",
     "output_type": "stream",
     "text": [
      "INFO:tensorflow:Assets written to: C:\\Users\\moham\\AppData\\Local\\Temp\\tmp1trzyjjb\\assets\n"
     ]
    },
    {
     "name": "stdout",
     "output_type": "stream",
     "text": [
      "INFO:tensorflow:Assets written to: C:\\Users\\moham\\AppData\\Local\\Temp\\tmp6hfv3lys\\assets\n"
     ]
    },
    {
     "name": "stderr",
     "output_type": "stream",
     "text": [
      "INFO:tensorflow:Assets written to: C:\\Users\\moham\\AppData\\Local\\Temp\\tmp6hfv3lys\\assets\n"
     ]
    },
    {
     "name": "stdout",
     "output_type": "stream",
     "text": [
      "INFO:tensorflow:Assets written to: C:\\Users\\moham\\AppData\\Local\\Temp\\tmp98oyei7h\\assets\n"
     ]
    },
    {
     "name": "stderr",
     "output_type": "stream",
     "text": [
      "INFO:tensorflow:Assets written to: C:\\Users\\moham\\AppData\\Local\\Temp\\tmp98oyei7h\\assets\n"
     ]
    },
    {
     "name": "stdout",
     "output_type": "stream",
     "text": [
      "INFO:tensorflow:Assets written to: C:\\Users\\moham\\AppData\\Local\\Temp\\tmpbhypjiy0\\assets\n"
     ]
    },
    {
     "name": "stderr",
     "output_type": "stream",
     "text": [
      "INFO:tensorflow:Assets written to: C:\\Users\\moham\\AppData\\Local\\Temp\\tmpbhypjiy0\\assets\n"
     ]
    },
    {
     "name": "stdout",
     "output_type": "stream",
     "text": [
      "INFO:tensorflow:Assets written to: C:\\Users\\moham\\AppData\\Local\\Temp\\tmpcmefcgva\\assets\n"
     ]
    },
    {
     "name": "stderr",
     "output_type": "stream",
     "text": [
      "INFO:tensorflow:Assets written to: C:\\Users\\moham\\AppData\\Local\\Temp\\tmpcmefcgva\\assets\n"
     ]
    },
    {
     "name": "stdout",
     "output_type": "stream",
     "text": [
      "INFO:tensorflow:Assets written to: C:\\Users\\moham\\AppData\\Local\\Temp\\tmpsx2qgfdb\\assets\n"
     ]
    },
    {
     "name": "stderr",
     "output_type": "stream",
     "text": [
      "INFO:tensorflow:Assets written to: C:\\Users\\moham\\AppData\\Local\\Temp\\tmpsx2qgfdb\\assets\n"
     ]
    },
    {
     "name": "stdout",
     "output_type": "stream",
     "text": [
      "INFO:tensorflow:Assets written to: C:\\Users\\moham\\AppData\\Local\\Temp\\tmpvjnjv8ao\\assets\n"
     ]
    },
    {
     "name": "stderr",
     "output_type": "stream",
     "text": [
      "INFO:tensorflow:Assets written to: C:\\Users\\moham\\AppData\\Local\\Temp\\tmpvjnjv8ao\\assets\n"
     ]
    },
    {
     "name": "stdout",
     "output_type": "stream",
     "text": [
      "INFO:tensorflow:Assets written to: C:\\Users\\moham\\AppData\\Local\\Temp\\tmpytln9ron\\assets\n"
     ]
    },
    {
     "name": "stderr",
     "output_type": "stream",
     "text": [
      "INFO:tensorflow:Assets written to: C:\\Users\\moham\\AppData\\Local\\Temp\\tmpytln9ron\\assets\n"
     ]
    },
    {
     "name": "stdout",
     "output_type": "stream",
     "text": [
      "INFO:tensorflow:Assets written to: C:\\Users\\moham\\AppData\\Local\\Temp\\tmpw9qe87ib\\assets\n"
     ]
    },
    {
     "name": "stderr",
     "output_type": "stream",
     "text": [
      "INFO:tensorflow:Assets written to: C:\\Users\\moham\\AppData\\Local\\Temp\\tmpw9qe87ib\\assets\n"
     ]
    },
    {
     "name": "stdout",
     "output_type": "stream",
     "text": [
      "INFO:tensorflow:Assets written to: C:\\Users\\moham\\AppData\\Local\\Temp\\tmptfz8yc6v\\assets\n"
     ]
    },
    {
     "name": "stderr",
     "output_type": "stream",
     "text": [
      "INFO:tensorflow:Assets written to: C:\\Users\\moham\\AppData\\Local\\Temp\\tmptfz8yc6v\\assets\n"
     ]
    },
    {
     "name": "stdout",
     "output_type": "stream",
     "text": [
      "INFO:tensorflow:Assets written to: C:\\Users\\moham\\AppData\\Local\\Temp\\tmpo65a9udf\\assets\n"
     ]
    },
    {
     "name": "stderr",
     "output_type": "stream",
     "text": [
      "INFO:tensorflow:Assets written to: C:\\Users\\moham\\AppData\\Local\\Temp\\tmpo65a9udf\\assets\n"
     ]
    },
    {
     "name": "stdout",
     "output_type": "stream",
     "text": [
      "INFO:tensorflow:Assets written to: C:\\Users\\moham\\AppData\\Local\\Temp\\tmpnbo8rvlo\\assets\n"
     ]
    },
    {
     "name": "stderr",
     "output_type": "stream",
     "text": [
      "INFO:tensorflow:Assets written to: C:\\Users\\moham\\AppData\\Local\\Temp\\tmpnbo8rvlo\\assets\n"
     ]
    },
    {
     "name": "stdout",
     "output_type": "stream",
     "text": [
      "INFO:tensorflow:Assets written to: C:\\Users\\moham\\AppData\\Local\\Temp\\tmpp7d1x201\\assets\n"
     ]
    },
    {
     "name": "stderr",
     "output_type": "stream",
     "text": [
      "INFO:tensorflow:Assets written to: C:\\Users\\moham\\AppData\\Local\\Temp\\tmpp7d1x201\\assets\n"
     ]
    },
    {
     "name": "stdout",
     "output_type": "stream",
     "text": [
      "INFO:tensorflow:Assets written to: C:\\Users\\moham\\AppData\\Local\\Temp\\tmps3iorp0y\\assets\n"
     ]
    },
    {
     "name": "stderr",
     "output_type": "stream",
     "text": [
      "INFO:tensorflow:Assets written to: C:\\Users\\moham\\AppData\\Local\\Temp\\tmps3iorp0y\\assets\n"
     ]
    },
    {
     "name": "stdout",
     "output_type": "stream",
     "text": [
      "INFO:tensorflow:Assets written to: C:\\Users\\moham\\AppData\\Local\\Temp\\tmp9_1j2833\\assets\n"
     ]
    },
    {
     "name": "stderr",
     "output_type": "stream",
     "text": [
      "INFO:tensorflow:Assets written to: C:\\Users\\moham\\AppData\\Local\\Temp\\tmp9_1j2833\\assets\n"
     ]
    },
    {
     "name": "stdout",
     "output_type": "stream",
     "text": [
      "INFO:tensorflow:Assets written to: C:\\Users\\moham\\AppData\\Local\\Temp\\tmpzsz3zma9\\assets\n"
     ]
    },
    {
     "name": "stderr",
     "output_type": "stream",
     "text": [
      "INFO:tensorflow:Assets written to: C:\\Users\\moham\\AppData\\Local\\Temp\\tmpzsz3zma9\\assets\n"
     ]
    },
    {
     "name": "stdout",
     "output_type": "stream",
     "text": [
      "INFO:tensorflow:Assets written to: C:\\Users\\moham\\AppData\\Local\\Temp\\tmp8zt5l7gs\\assets\n"
     ]
    },
    {
     "name": "stderr",
     "output_type": "stream",
     "text": [
      "INFO:tensorflow:Assets written to: C:\\Users\\moham\\AppData\\Local\\Temp\\tmp8zt5l7gs\\assets\n"
     ]
    },
    {
     "name": "stdout",
     "output_type": "stream",
     "text": [
      "INFO:tensorflow:Assets written to: C:\\Users\\moham\\AppData\\Local\\Temp\\tmptgvlioiy\\assets\n"
     ]
    },
    {
     "name": "stderr",
     "output_type": "stream",
     "text": [
      "INFO:tensorflow:Assets written to: C:\\Users\\moham\\AppData\\Local\\Temp\\tmptgvlioiy\\assets\n"
     ]
    }
   ],
   "source": [
    "# Convert models to TensorFlow Lite\n",
    "tflite_models = {}\n",
    "for symbol, model in trained_models.items():\n",
    "    converter = tf.lite.TFLiteConverter.from_keras_model(model)\n",
    "    converter.optimizations = [tf.lite.Optimize.DEFAULT]\n",
    "    converter.target_spec.supported_ops = [tf.lite.OpsSet.TFLITE_BUILTINS, tf.lite.OpsSet.SELECT_TF_OPS]\n",
    "    converter._experimental_lower_tensor_list_ops = False  # Disable experimental lowering of tensor list ops\n",
    "    tflite_models[symbol] = converter.convert()\n"
   ]
  },
  {
   "cell_type": "code",
   "execution_count": 18,
   "id": "521bad6d",
   "metadata": {},
   "outputs": [],
   "source": [
    "# Save the TensorFlow Lite models\n",
    "output_dir = \"tflite_models\"\n",
    "os.makedirs(output_dir, exist_ok=True)\n",
    "for symbol, tflite_model in tflite_models.items():\n",
    "    tflite_model_path = os.path.join(output_dir, f\"{symbol}_model.tflite\")\n",
    "    with open(tflite_model_path, \"wb\") as f:\n",
    "        f.write(tflite_model)"
   ]
  },
  {
   "cell_type": "code",
   "execution_count": null,
   "id": "88b67478",
   "metadata": {},
   "outputs": [],
   "source": []
  }
 ],
 "metadata": {
  "kernelspec": {
   "display_name": "Python 3 (ipykernel)",
   "language": "python",
   "name": "python3"
  },
  "language_info": {
   "codemirror_mode": {
    "name": "ipython",
    "version": 3
   },
   "file_extension": ".py",
   "mimetype": "text/x-python",
   "name": "python",
   "nbconvert_exporter": "python",
   "pygments_lexer": "ipython3",
   "version": "3.11.5"
  }
 },
 "nbformat": 4,
 "nbformat_minor": 5
}
